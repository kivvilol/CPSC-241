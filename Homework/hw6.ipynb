{
 "cells": [
  {
   "cell_type": "markdown",
   "metadata": {},
   "source": [
    "<html>\n",
    "<body>\n",
    "    <h2>CPSC 241 B - Homework 6</h2>\n",
    "    <h3><font color='red'>Due by Nov. 12, 11.00 PM</font></h3>\n",
    "    <p>Write Python code for each of the questions below. Insert a new cell below each\n",
    "        question and add your code. </p>\n",
    "    <p>Upload your completed Python notebook file only.</p>\n",
    "      <p>  <b>Use meaningful text when prompting for inputs and printing; write brief comments using #.</b></p>\n",
    "    <p> You <b>may use</b> input(), print(), random library, math library functions in your coding. You <em>may not</em> use concepts related to lists, arrays, indexing, string indexes, string operations, in (contains) operator to solve the below problems. No credit will be given.</p>\n",
    "    </body>\n",
    "</html>"
   ]
  },
  {
   "cell_type": "markdown",
   "metadata": {},
   "source": [
    "<p> <b>For all the questions below, add appropriate error checking code such as detecting if a number is not in expected input range, printing error messages to inform the user etc. </b></p>"
   ]
  },
  {
   "cell_type": "markdown",
   "metadata": {},
   "source": [
    "<h3>Q1[15]</h3>  <p>A perfect number is a positive integer that is equal to the sum of its \n",
    "positive divisors except the number itself (from wikipedia, see <a href=\"https://en.wikipedia.org/wiki/Perfect_number\">Perfect numbers</a>). Write code to determine if a given number is <strong>perfect</strong>. Use a <strong>for loop</strong> in your code logic.</p>\n"
   ]
  },
  {
   "cell_type": "code",
   "execution_count": 5,
   "metadata": {},
   "outputs": [
    {
     "name": "stdin",
     "output_type": "stream",
     "text": [
      "enter a positive integer: 6\n"
     ]
    },
    {
     "name": "stdout",
     "output_type": "stream",
     "text": [
      "This is a perfect number\n"
     ]
    }
   ],
   "source": [
    "def perfect_number(number):\n",
    "    \n",
    "    divisor_sum = 0\n",
    "    \n",
    "    for num in range(1, number):\n",
    "        \n",
    "        if number % num == 0:\n",
    "            \n",
    "            divisor_sum += num\n",
    "            \n",
    "    return divisor_sum == number\n",
    "    \n",
    "num_check = int(input('enter a positive integer:'))\n",
    "\n",
    "if num_check <= 0:\n",
    "    \n",
    "    print('Number out of range, please re-enter a positive integer')\n",
    "    \n",
    "else:\n",
    "    \n",
    "    if perfect_number(num_check) == True:\n",
    "    \n",
    "        print('This is a perfect number')\n",
    "    \n",
    "    else:\n",
    "    \n",
    "        print('This is not a perfect number')"
   ]
  },
  {
   "cell_type": "markdown",
   "metadata": {},
   "source": [
    "<h3>Q2[15]</h3>  <p>Use a <strong>While loop</strong>  and rewrite code for <strong>Q1</strong> to determine if a given number is <strong>perfect</strong>.</p>\n"
   ]
  },
  {
   "cell_type": "code",
   "execution_count": 52,
   "metadata": {},
   "outputs": [
    {
     "name": "stdin",
     "output_type": "stream",
     "text": [
      "enter a positive integer: 6\n"
     ]
    },
    {
     "name": "stdout",
     "output_type": "stream",
     "text": [
      "This is a perfect number\n"
     ]
    }
   ],
   "source": [
    "i = 2\n",
    "summation = 1\n",
    "\n",
    "while i <= num_check//2:\n",
    "\n",
    "     if num_check % i == 0:\n",
    "\n",
    "        summation += i\n",
    "\n",
    "        i += 1\n",
    "            \n",
    "        \n",
    "num_check = int(input('enter a positive integer:'))\n",
    "\n",
    "if num_check <= 0:\n",
    "    \n",
    "    print('Number out of range, please re-enter a positive integer')\n",
    "\n",
    "else:\n",
    "    \n",
    "    if summation == num_check:\n",
    "    \n",
    "        print('This is a perfect number')\n",
    "\n",
    "    else:\n",
    "        print('This is not a perfect number')"
   ]
  },
  {
   "cell_type": "markdown",
   "metadata": {},
   "source": [
    "<h3>Q3[15]</h3> <p>Write code to compute <strong>N</strong> terms in the below function: </p>\n",
    " <p>G(X) =  X + 2! X<sup>2</sup> + 3! X<sup>3</sup> + ....</p>\n",
    " <p> X is between 0 and 1.</p>"
   ]
  },
  {
   "cell_type": "code",
   "execution_count": 3,
   "metadata": {},
   "outputs": [
    {
     "name": "stdin",
     "output_type": "stream",
     "text": [
      "enter a value between 0 and 1: -1\n",
      "Input out of range, please enter a value between 0 and 1: -1\n",
      "Input out of range, please enter a value between 0 and 1: 2\n",
      "Input out of range, please enter a value between 0 and 1: 4\n",
      "Input out of range, please enter a value between 0 and 1: .76\n",
      "enter the number of terms: 5\n"
     ]
    },
    {
     "name": "stdout",
     "output_type": "stream",
     "text": [
      "The solution is: 42.982282752\n"
     ]
    }
   ],
   "source": [
    "import math\n",
    "\n",
    "x = float(input('enter a value between 0 and 1:'))\n",
    "\n",
    "summation = 0\n",
    "\n",
    "while summation == 0:\n",
    "    \n",
    "    if x > 0 and x < 1:\n",
    "    \n",
    "        n_terms = int(input('enter the number of terms:'))\n",
    "    \n",
    "        for num in range(1, n_terms + 1):\n",
    "    \n",
    "            factorial_term = math.factorial(num)\n",
    "    \n",
    "            exponent_term = x**num\n",
    "    \n",
    "            solve = factorial_term * exponent_term\n",
    "    \n",
    "            summation += solve\n",
    "    \n",
    "        print('The solution is:', summation)\n",
    "\n",
    "    else:\n",
    "    \n",
    "        x = float(input('Input out of range, please enter a value between 0 and 1:'))"
   ]
  }
 ],
 "metadata": {
  "kernelspec": {
   "display_name": "Python 3",
   "language": "python",
   "name": "python3"
  },
  "language_info": {
   "codemirror_mode": {
    "name": "ipython",
    "version": 3
   },
   "file_extension": ".py",
   "mimetype": "text/x-python",
   "name": "python",
   "nbconvert_exporter": "python",
   "pygments_lexer": "ipython3",
   "version": "3.8.3"
  }
 },
 "nbformat": 4,
 "nbformat_minor": 5
}

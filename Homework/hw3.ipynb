{
 "cells": [
  {
   "cell_type": "markdown",
   "metadata": {},
   "source": [
    "<html>\n",
    "<body>\n",
    "    <h2>CPSC 241 B - Homework 3</h2>\n",
    "    <h3><font color='red'>Due by Oct. 1, 11.00 PM</font></h3>\n",
    "    <p>Write Python code for each of the questions below. Insert a new cell below each\n",
    "        question and add your code. </p>\n",
    "    <p>Upload your completed Python notebook file only.</p>\n",
    "      <p>  <b>Use meaningful text when prompting for inputs and printing; write brief comments using #.</b></p>\n",
    "    <p> <b>DO NOT</b> use library functions other than input(), print(). You <em>may not</em> use concepts related to lists, arrays, indexing, string indexes, string operations to solve the below problems. No credit will be given.</p>\n",
    "    </body>\n",
    "</html>"
   ]
  },
  {
   "cell_type": "markdown",
   "metadata": {},
   "source": [
    "<h3>Q1[15]</h3>\n",
    "<p>You will write code to convert Celsius(C) to Fahrenheit(F) and vice versa. The user will choose the required temeprature conversion. </p>\n",
    "<ol>\n",
    "  <li>Prompt the user to enter 'Far' for F to C conversion, 'Cel' for C to F conversion. </li>\n",
    "  <li>For F to C conversion, the input temperature in F must be between 50 F to 100 F inclusive. Print an error message if the temperature is out of this range. If not, do the conversion and print the Celsius value using standard formula. </li>\n",
    "  <li>For C to F conversion, the input temperature in C must be between 25 C to 35 C inclusive. Print an error message if the temperature is out of this range. If not, do the conversion and print the Fahrenheit value using standard formula.</li>\n",
    "</ol>  \n",
    "\n",
    "<p></p>"
   ]
  },
  {
   "cell_type": "code",
   "execution_count": 11,
   "metadata": {},
   "outputs": [
    {
     "name": "stdin",
     "output_type": "stream",
     "text": [
      "Enter the temperature scale, Fahrenheit (Far) or Celsius (Cel):  Cel\n",
      "Enter your temperature: 27\n"
     ]
    },
    {
     "name": "stdout",
     "output_type": "stream",
     "text": [
      "Your temperature in Fahrenheit is 80.6 degrees\n"
     ]
    }
   ],
   "source": [
    "temp_type = input('Enter the temperature scale, Fahrenheit (Far) or Celsius (Cel): ')\n",
    "\n",
    "Fahr = 0\n",
    "Cels = 0\n",
    "temperature = 0\n",
    "\n",
    "if(temp_type != 'Far') and (temp_type != 'Cel'): # if temp isn't our 2 values, end the code and print the error\n",
    "    print('Temperature scale not accepted, please re-enter your temperature scale (case-sensitive)')\n",
    "elif(temp_type == 'Far'): # F to C conversion\n",
    "    temperature = float(input('Enter your temperature:'))\n",
    "    if(temperature < 50) or (temperature > 100):\n",
    "        print('Temperature is out of range - please re-enter your temperature')\n",
    "    elif(temperature >= 50) and (temperature <= 100):\n",
    "        Cels = round((temperature - 32) * (5.0 / 9.0), 1)\n",
    "        print('Your temperature in Celsius is', Cels, 'degrees')\n",
    "elif(temp_type == 'Cel'): # C to F conversion\n",
    "    temperature = float(input('Enter your temperature:'))\n",
    "    if(temperature < 25) or (temperature > 35):\n",
    "        print('Temperature is out of range - please re-enter your temperature')\n",
    "    elif(temperature >= 25) and (temperature <= 35):\n",
    "        Fahr = (9.0 / 5.0) * temperature + 32\n",
    "        print('Your temperature in Fahrenheit is', Fahr, 'degrees')"
   ]
  },
  {
   "cell_type": "markdown",
   "metadata": {},
   "source": [
    "<h3>Q2[25]</h3>\n",
    "<p>You will write code to permutate a given 6 digit number input by the user. Your code should output 5 possible permutations based on the user input choice ranging from 1 to 5. Any other input choice should result in an error message being printed. </p>\n",
    "<ol>\n",
    "  <li>Choice = 1, exchange the first and last digits and print the number. For example, if user enters 345678, you code should output 845673. </li>\n",
    "  <li>Choice = 2, exchange the middle two digits and print the number. For example, if user enters 345678, you code should output 346578. </li> \n",
    "   <li>Choice = 3, reverse the number and print the number. For example, if user enters 345678, you code should output 876543. </li>  \n",
    "     <li>Choice = 4, exchange the top half digits with bottom half digits, print the result. For example, if user enters 345678, you code should output 578345. </li> \n",
    "     <li>Choice = 5, make your own permutation and print the result. Briefly mention how your permutation works using comments. </li> \n",
    "  \n",
    "</ol>  \n",
    "\n",
    "<p><font color='blue'>NOTE : You may need to use the code discussed in class to extract indivdual digits from a number.</font></p>"
   ]
  },
  {
   "cell_type": "code",
   "execution_count": 130,
   "metadata": {},
   "outputs": [
    {
     "name": "stdin",
     "output_type": "stream",
     "text": [
      "Enter your choice (1 - 5): 4\n",
      "Enter your 6 digit number: 123456\n"
     ]
    },
    {
     "name": "stdout",
     "output_type": "stream",
     "text": [
      "Your permutation is: 456123\n",
      "Choice not accepted, please re-enter your choice (1 - 5)\n"
     ]
    }
   ],
   "source": [
    "choice = int(input('Enter your choice (1 - 5):'))\n",
    "number = int(input('Enter your 6 digit number:'))\n",
    "\n",
    "digit5 = number % 10 # last digit\n",
    "number = number // 10\n",
    "digit4 = number % 10 # second to last digit\n",
    "number = number // 10\n",
    "digit3 = number % 10 # third to last digit\n",
    "number = number // 10\n",
    "digit2 = number % 10 # third digit\n",
    "number = number // 10\n",
    "digit1 = number % 10 # second digit\n",
    "number = number // 10\n",
    "digit0 = number % 10 # first digit\n",
    "number = number // 10\n",
    "\n",
    "if(choice == 1):\n",
    "    print('Your permutation is: ', digit5, digit1, digit2, digit3, digit4, digit0, sep = '') # exchange the first and last digits\n",
    "if(choice == 2):\n",
    "    print('Your permutation is: ', digit0, digit1, digit3, digit2, digit4, digit5, sep = '') # exchange the middle two digits\n",
    "if(choice == 3):\n",
    "    print('Your permutation is: ', digit5, digit4, digit3, digit2, digit1, digit0, sep = '') # reverse the number\n",
    "if(choice == 4):\n",
    "    print('Your permutation is: ', digit3, digit4, digit5, digit0, digit1, digit2, sep = '') # exchange top half with bottom half digits\n",
    "if(choice == 5):\n",
    "    print('Your permutation is: ', digit4, digit5, digit0, digit1, digit2, digit3, sep = '') # move the last 2 digits to the front \n",
    "else:\n",
    "    print('Choice not accepted, please re-enter your choice (1 - 5)')"
   ]
  },
  {
   "cell_type": "markdown",
   "metadata": {},
   "source": [
    "<h3>Q3[10]</h3>\n",
    "<p>You will write code to mimic Python <em><b>mulitplication operator (*)</b></em> for string duplication. Using Python <b>*</b> operator on a string, duplicates a string, some given number of times. \n",
    "<p>For example, <em><font color='blue'>myname = 'yoda'</font></em> then <em><font color='blue'>print(myname * 3)</font></em> will <em><font color='blue'>print 'yodayodayoda'</font></em> . See the code example below.</p> \n"
   ]
  },
  {
   "cell_type": "code",
   "execution_count": 108,
   "metadata": {},
   "outputs": [
    {
     "name": "stdout",
     "output_type": "stream",
     "text": [
      "yodayodayoda\n"
     ]
    }
   ],
   "source": [
    "myname = 'yoda'\n",
    "print(myname * 3)"
   ]
  },
  {
   "cell_type": "markdown",
   "metadata": {},
   "source": [
    "Write code (using <em><b>while loop</b></em> and any inputs as needed from the user) to mimic the Python <b>*</b> for string duplication operator. "
   ]
  },
  {
   "cell_type": "code",
   "execution_count": 131,
   "metadata": {},
   "outputs": [
    {
     "name": "stdin",
     "output_type": "stream",
     "text": [
      "Input the word you want replicated:  apple\n",
      "Input the number of times you would like to replicate:  4\n"
     ]
    },
    {
     "name": "stdout",
     "output_type": "stream",
     "text": [
      "appleappleappleapple\n"
     ]
    }
   ],
   "source": [
    "word = input('Input the word you want replicated: ')\n",
    "amount = int(input('Input the number of times you would like to replicate: '))\n",
    "\n",
    "i = 0\n",
    "\n",
    "while(i < amount): \n",
    "    print(word * amount) # string replication\n",
    "    i = i + amount # can do (i = amount - 1 and i = i + 1) or (i = 0 and i = i + amount), both work the same"
   ]
  },
  {
   "cell_type": "markdown",
   "metadata": {},
   "source": [
    "<h3>Q4[15] Problem 3.15 from Textbook</h3>"
   ]
  },
  {
   "cell_type": "code",
   "execution_count": 27,
   "metadata": {},
   "outputs": [
    {
     "name": "stdout",
     "output_type": "stream",
     "text": [
      "The approximate value of e at 10 terms is: 2.7182818011463845\n"
     ]
    }
   ],
   "source": [
    "def fact_value(n): # calculates value of factorial given some number n\n",
    "    factorial = 1\n",
    "    for i in range(1, n + 1):\n",
    "        factorial *= i\n",
    "    return factorial\n",
    "        \n",
    "def approximation(n): # calculates the approximate value of e when given some number n\n",
    "    s = 0\n",
    "    for i in range(n + 1):\n",
    "        s += 1 / fact_value(i)\n",
    "    return s\n",
    "\n",
    "print('The approximate value of e at 10 terms is:', approximation(10))"
   ]
  }
 ],
 "metadata": {
  "kernelspec": {
   "display_name": "Python 3",
   "language": "python",
   "name": "python3"
  },
  "language_info": {
   "codemirror_mode": {
    "name": "ipython",
    "version": 3
   },
   "file_extension": ".py",
   "mimetype": "text/x-python",
   "name": "python",
   "nbconvert_exporter": "python",
   "pygments_lexer": "ipython3",
   "version": "3.8.3"
  }
 },
 "nbformat": 4,
 "nbformat_minor": 5
}

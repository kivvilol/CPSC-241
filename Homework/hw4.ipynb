{
 "cells": [
  {
   "cell_type": "markdown",
   "metadata": {},
   "source": [
    "<html>\n",
    "<body>\n",
    "    <h2>CPSC 241 B - Homework 4</h2>\n",
    "    <h3><font color='red'>Due by Oct. 15, 11.00 PM</font></h3>\n",
    "    <p>Write Python code for each of the questions below. Insert a new cell below each\n",
    "        question and add your code. </p>\n",
    "    <p>Upload your completed Python notebook file only.</p>\n",
    "      <p>  <b>Use meaningful text when prompting for inputs and printing; write brief comments using #.</b></p>\n",
    "    <p> <b>DO NOT</b> use <b>library</b> functions other than input(), print(), <b> lists, arrays</b> in your coding. You <em>may not</em> use concepts related to lists, arrays, indexing, string indexes, string operations to solve the below problems. No credit will be given.</p>\n",
    "    </body>\n",
    "</html>"
   ]
  },
  {
   "cell_type": "markdown",
   "metadata": {},
   "source": [
    "<p> <b>For all the questions below, add appropriate error checking code such as detecting if a number is not in expected input range, printing error messages to inform the user etc. </b></p>"
   ]
  },
  {
   "cell_type": "markdown",
   "metadata": {},
   "source": [
    "<h3>Q1[15] - Sentinel based while loop</h3>\n",
    "<p>Prompt the user to enter a sequence of postive numbers. Count how many odd and even numbers are in the input sequence of numbers. Print your statistics. </p>"
   ]
  },
  {
   "cell_type": "code",
   "execution_count": 116,
   "metadata": {},
   "outputs": [
    {
     "name": "stdin",
     "output_type": "stream",
     "text": [
      "enter a positive integer (sentinel = -1): 20\n",
      "enter a positive integer (sentinel = -1): 40\n",
      "enter a positive integer (sentinel = -1): 41\n",
      "enter a positive integer (sentinel = -1): 43\n",
      "enter a positive integer (sentinel = -1): -1\n"
     ]
    },
    {
     "name": "stdout",
     "output_type": "stream",
     "text": [
      "The amount of even numbers is: 2\n",
      "The amount of odd numbers is: 2\n"
     ]
    }
   ],
   "source": [
    "sentinel = -1\n",
    "n = 0 # initializing n for while loop\n",
    "\n",
    "# initializing our number of evens and odds\n",
    "evens = 0 \n",
    "odds = 0\n",
    "\n",
    "while n != sentinel:\n",
    "    \n",
    "    n = int(input('enter a positive integer (sentinel = -1):'))\n",
    "    \n",
    "    if n < 0 and n != -1:\n",
    "        print('number is out of range, please enter a positive integer')\n",
    "    \n",
    "    elif n % 2 == 0:\n",
    "        evens += 1\n",
    "    \n",
    "    else:\n",
    "        odds += 1\n",
    "\n",
    "print('The amount of even numbers is:', evens)\n",
    "print('The amount of odd numbers is:', odds - 1) # because our sentinel value is odd, we have to subtract 1 from the total to get the correct amount"
   ]
  },
  {
   "cell_type": "markdown",
   "metadata": {},
   "source": [
    "<h3>Q2[15] - Use of break and continue statements</h3>\n",
    "<p>Prompt the user to enter a sequence of numbers in the range [1, 200]. Print the numbers input by the user subject to the following conditions - 1) Use <b>continue</b> to skip printing numbers in the range [23, 47], 2) Print the number and <b>break</b> out of loop, for numbers in the range [67, 102], 3) Do not print numbers and <b>break</b> out of the loop for numbers in the range [110, 140]. </p>"
   ]
  },
  {
   "cell_type": "code",
   "execution_count": null,
   "metadata": {},
   "outputs": [],
   "source": [
    "n = 1\n",
    "\n",
    "while n > 0 and n <= 200:\n",
    "    \n",
    "    n = int(input('enter a sequence of numbers (0 - 200):'))\n",
    "    \n",
    "    if n >= 23 and n <= 47:\n",
    "        continue        \n",
    "    elif n >= 67 and n <= 102:\n",
    "        print('You entered', n)\n",
    "        break        \n",
    "    elif n <= 110 and n >= 140:\n",
    "        break        \n",
    "    elif n > 0 and n <= 200:\n",
    "        print('You entered', n)       \n",
    "    else:\n",
    "        print('Your number is out of range, please re-enter your number')"
   ]
  },
  {
   "cell_type": "markdown",
   "metadata": {},
   "source": [
    "<h3>Q3[20] - Problem solving</h3>\n",
    "<p>Prompt the user to input a sequence of characters. If the sequence of characters contains the <b>consecutive</b> alphabets <b>c, a, t</b> (<em>user inputs <b>c</b> followed by <b>a</b> followed by <b>t</b> at any point in the input character sequence</em>), print 'found a cat' and count how many times <b>c, a, t</b> occurs in the input sequence. </p>"
   ]
  },
  {
   "cell_type": "code",
   "execution_count": null,
   "metadata": {},
   "outputs": [],
   "source": [
    "#### FINAL SOLUTION THAT FOLLOWS ALL RULES"
   ]
  },
  {
   "cell_type": "code",
   "execution_count": null,
   "metadata": {},
   "outputs": [],
   "source": [
    "# initializing our three variables for string addition\n",
    "item1 = '0'\n",
    "item2 = '0'\n",
    "char_input_str = '0'\n",
    "\n",
    "cat_count = 0 # initializing number of cats\n",
    "\n",
    "sentinel = 'end'\n",
    "\n",
    "char = input('enter your character (sentinel = end):')\n",
    "\n",
    "while char != sentinel:\n",
    "    \n",
    "    char_input_str = str(char)\n",
    "    \n",
    "    if item1 == 'c' and item2 == 'a' and char_input_str == 't':\n",
    "        print('found a cat!')\n",
    "        cat_count += 1\n",
    "        print('The number of cats found is', cat_count)\n",
    "        \n",
    "    # moves the window one position to the right\n",
    "    item1 = item2\n",
    "    item2 = char_input_str\n",
    "    \n",
    "    char = input('enter the next character (sentinel = end): ')"
   ]
  },
  {
   "cell_type": "code",
   "execution_count": 5,
   "metadata": {},
   "outputs": [
    {
     "data": {
      "text/plain": [
       "'t'"
      ]
     },
     "execution_count": 5,
     "metadata": {},
     "output_type": "execute_result"
    }
   ],
   "source": []
  },
  {
   "cell_type": "code",
   "execution_count": null,
   "metadata": {},
   "outputs": [],
   "source": [
    "##### Solution if I can use string addition "
   ]
  },
  {
   "cell_type": "code",
   "execution_count": null,
   "metadata": {},
   "outputs": [],
   "source": [
    "# initializing our three variables for string addition\n",
    "item1 = '0'\n",
    "item2 = '0'\n",
    "char_input_str = '0'\n",
    "\n",
    "cat_count = 0 # initializing number of cats\n",
    "\n",
    "sentinel = 'end'\n",
    "\n",
    "char = input('enter your character (sentinel = end):')\n",
    "\n",
    "while char != sentinel:\n",
    "    \n",
    "    char_input_str = str(char)\n",
    "    \n",
    "    # string addition to check if our window = cat\n",
    "    three_char_str = item1 + item2 + char_input_str\n",
    "    \n",
    "    if three_char_str == 'cat':\n",
    "        print('found a cat!')\n",
    "        cat_count += 1\n",
    "        \n",
    "    # moves the window one position to the right\n",
    "    item1 = item2\n",
    "    item2 = char_input_str\n",
    "    \n",
    "    char = input('enter the next character (sentinel = end): ')\n",
    "    \n",
    "print('The number of cats found is', cat_count)"
   ]
  },
  {
   "cell_type": "code",
   "execution_count": null,
   "metadata": {},
   "outputs": [],
   "source": [
    "#### Solution if I can use for loops"
   ]
  },
  {
   "cell_type": "code",
   "execution_count": 6,
   "metadata": {},
   "outputs": [
    {
     "name": "stdin",
     "output_type": "stream",
     "text": [
      "enter your sequence of characters: catojdsaoifjdsaoijfoidsajcatcat\n"
     ]
    },
    {
     "name": "stdout",
     "output_type": "stream",
     "text": [
      "found a cat!\n",
      "The number of cats is: 3\n"
     ]
    }
   ],
   "source": [
    "char = input('enter your sequence of characters:')\n",
    "\n",
    "search_term = 'cat'\n",
    "\n",
    "cat_count = 0\n",
    "\n",
    "for i in range(len(char)):\n",
    "    if char[i:i + len(search_term)] == search_term:\n",
    "        cat_count += 1\n",
    "\n",
    "if search_term in char:\n",
    "    print('found a cat!')\n",
    "    print('The number of cats is:', cat_count)\n",
    "else:\n",
    "    print('did not find a cat')"
   ]
  }
 ],
 "metadata": {
  "kernelspec": {
   "display_name": "Python 3",
   "language": "python",
   "name": "python3"
  },
  "language_info": {
   "codemirror_mode": {
    "name": "ipython",
    "version": 3
   },
   "file_extension": ".py",
   "mimetype": "text/x-python",
   "name": "python",
   "nbconvert_exporter": "python",
   "pygments_lexer": "ipython3",
   "version": "3.8.3"
  }
 },
 "nbformat": 4,
 "nbformat_minor": 5
}

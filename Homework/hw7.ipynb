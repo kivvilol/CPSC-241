{
 "cells": [
  {
   "cell_type": "markdown",
   "metadata": {},
   "source": [
    "<html>\n",
    "<body>\n",
    "    <h2>CPSC 241 B - Homework 7</h2>\n",
    "    <h3><font color='red'>Due by Dec. 3, 11.00 PM</font></h3>\n",
    "    <p>Write Python code for each of the questions below. Insert a new cell below each\n",
    "        question and add your code. </p>\n",
    "    <p>Upload your completed Python notebook file only.</p>\n",
    "      <p>  <b>Use meaningful text when prompting for inputs and printing; write brief comments using #.</b></p>\n",
    "   \n",
    "    </body>\n",
    "</html>"
   ]
  },
  {
   "cell_type": "markdown",
   "metadata": {},
   "source": [
    "<p> <b>For all the questions below, add appropriate error checking code such as detecting if a number is not in expected input range, printing error messages to inform the user etc. </b></p>"
   ]
  },
  {
   "cell_type": "markdown",
   "metadata": {},
   "source": [
    "<h3>Q1[5]</h3>  <p> Textbook Chapter 5, Q 5.2. Call the function in Q5.2 and Explain the output.</p>"
   ]
  },
  {
   "cell_type": "markdown",
   "metadata": {},
   "source": [
    "<h3>Q2[10]</h3>  <p>Textbook Chapter 5, Q5.4.</p>\n"
   ]
  },
  {
   "cell_type": "markdown",
   "metadata": {},
   "source": [
    "<h3>Q3[15]</h3> <p>Textbook Chapter 5, Q5.5.</p>"
   ]
  },
  {
   "cell_type": "markdown",
   "metadata": {},
   "source": [
    "<h3>Q4[10]</h3> <p>Textbook Chapter 5, Q5.6.</p>"
   ]
  },
  {
   "cell_type": "markdown",
   "metadata": {},
   "source": [
    "<h3>Q5[15]</h3> <p>Textbook Chapter 5, Q5.7.</p>"
   ]
  },
  {
   "cell_type": "markdown",
   "metadata": {},
   "source": [
    "<h3>Q6[15]</h3> <p>Simulate the rolling of two dice 1000 times and record the frequency of each \n",
    "outcome (number on die1, number on die2) using a two dimensional list. Note : there are 36 possible outcomes, when you roll two dice.  Write a function to print the two dimensional frequency map in tabular format. </p>"
   ]
  },
  {
   "cell_type": "markdown",
   "metadata": {},
   "source": [
    "<h3>Q7[15]</h3> <p>Samples of temperature is taken 5 times each day throughout the week. Create a dictionary to record the temperature samples. Use the day of the week ('monday', 'tuesday' etc) as <b> key </b>. a) Write a function to randomly generate the temperature in the range [50, 60] and populate your dictionary. b) Write a function which will take the day of the week as parameter and return the average temperature in that day. </p>"
   ]
  }
 ],
 "metadata": {
  "kernelspec": {
   "display_name": "Python 3",
   "language": "python",
   "name": "python3"
  },
  "language_info": {
   "codemirror_mode": {
    "name": "ipython",
    "version": 3
   },
   "file_extension": ".py",
   "mimetype": "text/x-python",
   "name": "python",
   "nbconvert_exporter": "python",
   "pygments_lexer": "ipython3",
   "version": "3.8.3"
  }
 },
 "nbformat": 4,
 "nbformat_minor": 5
}

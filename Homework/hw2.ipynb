{
 "cells": [
  {
   "cell_type": "markdown",
   "metadata": {},
   "source": [
    "<html>\n",
    "<body>\n",
    "    <h2>CPSC 241 B - Homework 2</h2>\n",
    "    <h3>Due by Sept. 17, 11.00 PM</h3>\n",
    "    <p>Write Python code for each of the questions below. Insert a new cell below each\n",
    "        question and add your code. Upload your completed Python notebook file only.\n",
    "        <b>Use meaningful text when prompting for inputs and printing.</b></p>\n",
    "    </body>\n",
    "</html>"
   ]
  },
  {
   "cell_type": "markdown",
   "metadata": {},
   "source": [
    "<h3>Q1[5]</h3>\n",
    "<p>Write a <em><b>print statement</b></em> which prints the below text(including all quotes).</p>\n",
    "<p>'Area of a \"cone\" = (PI/3) * r * r * h; PI = 3.14'</p>"
   ]
  },
  {
   "cell_type": "code",
   "execution_count": 1,
   "metadata": {},
   "outputs": [
    {
     "name": "stdout",
     "output_type": "stream",
     "text": [
      "Area of a \"cone\" = (PI/3) * r * r * h; PI = 3.14\n"
     ]
    }
   ],
   "source": [
    "print('Area of a \"cone\" = (PI/3) * r * r * h; PI = 3.14') # Print the formula for area of a cone and value of pi"
   ]
  },
  {
   "cell_type": "markdown",
   "metadata": {},
   "source": [
    "<h3>Q2[5]</h3>\n",
    "<p>Write code to read two floating point numbers from command prompt(keyboard). Print both numbers. Use meaningful text when prompting for inputs and printing.</p>"
   ]
  },
  {
   "cell_type": "code",
   "execution_count": 2,
   "metadata": {},
   "outputs": [
    {
     "name": "stdin",
     "output_type": "stream",
     "text": [
      "Enter your first floating point:  3.2\n",
      "Enter your second floating point:  4.7\n"
     ]
    },
    {
     "name": "stdout",
     "output_type": "stream",
     "text": [
      "Your two floating points are: 3.2 & 4.7\n"
     ]
    }
   ],
   "source": [
    "# creating two floating point variables that require input from keyboard\n",
    "floating_point_1 = float(input('Enter your first floating point: '))\n",
    "floating_point_2 = float(input('Enter your second floating point: '))\n",
    "\n",
    "# printing value of both floating point variables\n",
    "print('Your two floating points are:', floating_point_1, '&', floating_point_2)"
   ]
  },
  {
   "cell_type": "markdown",
   "metadata": {},
   "source": [
    "<h3>Q3[10]</h3>\n",
    "<p>Write code to compute the below mathematical expression. Prompt the user for any \n",
    "inputs required and print the result.</p>\n",
    "<img src=\"hw2pics1.jpg\" width=\"200\" height=\"500\" />"
   ]
  },
  {
   "cell_type": "code",
   "execution_count": 3,
   "metadata": {},
   "outputs": [
    {
     "name": "stdin",
     "output_type": "stream",
     "text": [
      "Enter the value of a : 17.2\n",
      "Enter the value of b : 13.4\n",
      "Enter the value of c : 2.3\n",
      "Enter the value of d : 9.7\n"
     ]
    },
    {
     "name": "stdout",
     "output_type": "stream",
     "text": [
      "The value of r is equal to 4067.657391304348\n"
     ]
    }
   ],
   "source": [
    "# creating variable inputs\n",
    "a = float(input('Enter the value of a :'))\n",
    "b = float(input('Enter the value of b :'))\n",
    "c = float(input('Enter the value of c :'))\n",
    "d = float(input('Enter the value of d :'))\n",
    "\n",
    "# creating formula that takes input from our four variables\n",
    "r = (b**2) + 4 * (a * d) * (b / c)\n",
    "print('The value of r is equal to', r) # printing value of r"
   ]
  },
  {
   "cell_type": "markdown",
   "metadata": {},
   "source": [
    "<h3>Q4[10] - Page 71, Problem 2.4</h3>"
   ]
  },
  {
   "cell_type": "code",
   "execution_count": 4,
   "metadata": {},
   "outputs": [
    {
     "name": "stdout",
     "output_type": "stream",
     "text": [
      "29.5\n",
      "25.5\n",
      "55.0\n",
      "13.75\n",
      "13.0\n",
      "756.25\n"
     ]
    }
   ],
   "source": [
    "print(27.5 + 2) # addition\n",
    "print(27.5 - 2) # subtraction\n",
    "print(27.5 * 2) # multiplication\n",
    "print(27.5 / 2) # true division\n",
    "print(27.5 // 2) # floor division\n",
    "print(27.5 ** 2) # exponent"
   ]
  },
  {
   "cell_type": "markdown",
   "metadata": {},
   "source": [
    "<h3>Q5[10] - Page 71, Problem 2.7</h3>"
   ]
  },
  {
   "cell_type": "code",
   "execution_count": 8,
   "metadata": {},
   "outputs": [
    {
     "name": "stdin",
     "output_type": "stream",
     "text": [
      "Input your first number : 1024\n",
      "Input your second number:  4\n"
     ]
    },
    {
     "name": "stdout",
     "output_type": "stream",
     "text": [
      "1024 is a multiple of 4\n"
     ]
    }
   ],
   "source": [
    "n1 = int(input('Input your first number :')) # left operand\n",
    "n2 = int(input('Input your second number: ')) # right operand\n",
    "\n",
    "if n1 % n2 == 0:\n",
    "    print(n1, 'is a multiple of', n2)\n",
    "    \n",
    "if n1 % n2 != 0:\n",
    "    print(n1, 'is not a multiple of', n2)"
   ]
  },
  {
   "cell_type": "markdown",
   "metadata": {},
   "source": [
    "<h3>Q6[15] - Page 72, Problem 2.10</h3>"
   ]
  },
  {
   "cell_type": "code",
   "execution_count": null,
   "metadata": {},
   "outputs": [],
   "source": [
    "number1 = float(input('Input your first number: '))\n",
    "number2 = float(input('Input your second number: '))\n",
    "number3 = float(input('Input your third number: '))\n",
    "\n",
    "sum_numbers = number1 + number2 + number3 # addition\n",
    "average = number1 + number2 + number3 / 3 # addition divided by the amount of numbers added\n",
    "product = number1 * number2 * number3 # multiplication\n",
    "\n",
    "# calculating smallest number\n",
    "minimum = number1\n",
    "\n",
    "if number2 < minimum:\n",
    "    minimum = number2\n",
    "if number3 < minimum:\n",
    "    minimum = number3 \n",
    "    \n",
    "# calculating largest number\n",
    "maximum = number1\n",
    "if number2 > maximum:\n",
    "    maximum = number2\n",
    "if number3 > maximum:\n",
    "    maximum = number3\n",
    "    \n",
    "# printing our results\n",
    "print('Sum = :', sum_numbers)\n",
    "print('Average = :', average)\n",
    "print('Product = :', product)\n",
    "print('Minimum = :', minimum)\n",
    "print('Maximum = :', maximum)"
   ]
  },
  {
   "cell_type": "markdown",
   "metadata": {},
   "source": [
    "<h3>Q7[15] - Page 72, Problem 2.12</h3>"
   ]
  },
  {
   "cell_type": "code",
   "execution_count": 6,
   "metadata": {},
   "outputs": [
    {
     "name": "stdin",
     "output_type": "stream",
     "text": [
      "Enter your initial investment (principal):  1000\n",
      "Enter your annual rate of return:  7\n",
      "Enter your number of years:  20\n"
     ]
    },
    {
     "name": "stdout",
     "output_type": "stream",
     "text": [
      "The amount of deposit at the end of year 20 is equal to 3869.68 dollars.\n"
     ]
    }
   ],
   "source": [
    "p = float(input('Enter your initial investment (principal): '))\n",
    "r = float(input('Enter your annual rate of return: '))\n",
    "n = int(input('Enter your number of years: '))\n",
    "\n",
    "# formula for investment\n",
    "a = p * (1 + (r/100)) ** n\n",
    "\n",
    "print('The amount of deposit at the end of year', n, 'is equal to', round(a, 2), 'dollars.')"
   ]
  }
 ],
 "metadata": {
  "kernelspec": {
   "display_name": "Python 3",
   "language": "python",
   "name": "python3"
  },
  "language_info": {
   "codemirror_mode": {
    "name": "ipython",
    "version": 3
   },
   "file_extension": ".py",
   "mimetype": "text/x-python",
   "name": "python",
   "nbconvert_exporter": "python",
   "pygments_lexer": "ipython3",
   "version": "3.8.3"
  }
 },
 "nbformat": 4,
 "nbformat_minor": 5
}

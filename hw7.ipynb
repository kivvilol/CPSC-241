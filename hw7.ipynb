{
 "cells": [
  {
   "cell_type": "markdown",
   "id": "5d4f66cf-c38d-4bca-9a10-f93db3138635",
   "metadata": {},
   "source": [
    "<html>\n",
    "<body>\n",
    "    <h2>CPSC 241 B - Homework 7</h2>\n",
    "    <h3><font color='red'>Due by Dec. 3, 11.00 PM</font></h3>\n",
    "    <p>Write Python code for each of the questions below. Insert a new cell below each\n",
    "        question and add your code. </p>\n",
    "    <p>Upload your completed Python notebook file only.</p>\n",
    "      <p>  <b>Use meaningful text when prompting for inputs and printing; write brief comments using #.</b></p>\n",
    "   \n",
    "    </body>\n",
    "</html>"
   ]
  },
  {
   "cell_type": "markdown",
   "id": "89f0b937-b2dc-4de8-a73c-d6e1d275165c",
   "metadata": {},
   "source": [
    "<p> <b>For all the questions below, add appropriate error checking code such as detecting if a number is not in expected input range, printing error messages to inform the user etc. </b></p>"
   ]
  },
  {
   "cell_type": "markdown",
   "id": "7dd4880f-8ca8-4fe3-a4d9-6c7c9af30c64",
   "metadata": {},
   "source": [
    "<h3>Q1[5]</h3>  <p> Textbook Chapter 5, Q 5.2. Call the function in Q5.2 and Explain the output.</p>"
   ]
  },
  {
   "cell_type": "code",
   "execution_count": 2,
   "id": "cf3812ef-3ec2-42b1-9bcf-618e857e3db4",
   "metadata": {},
   "outputs": [
    {
     "name": "stdout",
     "output_type": "stream",
     "text": [
      "True\n"
     ]
    }
   ],
   "source": [
    "def mystery(sequence):\n",
    "    \n",
    "    return sequence == sorted(sequence)\n",
    "\n",
    "sequence = [1, 2, 3, 4, 5, 6, 7]\n",
    "\n",
    "result = mystery(sequence)\n",
    "\n",
    "print(result)\n",
    "\n",
    "## This code returns a boolean value based on whether the initial sequence is sorted. If it is sorted,\n",
    "## the code will return true, otherwise it will return false."
   ]
  },
  {
   "cell_type": "markdown",
   "id": "984efcda-421b-4936-a203-fefe32bd13a8",
   "metadata": {},
   "source": [
    "<h3>Q2[10]</h3>  <p>Textbook Chapter 5, Q5.4.</p>\n"
   ]
  },
  {
   "cell_type": "code",
   "execution_count": 501,
   "id": "3718ae05-8422-4e50-b97c-ea64051f371f",
   "metadata": {},
   "outputs": [
    {
     "name": "stdout",
     "output_type": "stream",
     "text": [
      "0 0 0 \n",
      "0 0 0 \n"
     ]
    }
   ],
   "source": [
    "twobythree_list = [[0, 0, 0], [0, 0, 0]]\n",
    "\n",
    "for row in twobythree_list:\n",
    "    \n",
    "    for item in row:\n",
    "        \n",
    "        print(item, end = ' ')\n",
    "        \n",
    "    print()\n",
    "    \n"
   ]
  },
  {
   "cell_type": "markdown",
   "id": "a4d51972-23b9-468e-9bea-d62a3b9c79cc",
   "metadata": {},
   "source": [
    "<h3>Q3[15]</h3> <p>Textbook Chapter 5, Q5.5.</p>"
   ]
  },
  {
   "cell_type": "code",
   "execution_count": 36,
   "id": "e26d3d8e-17da-424e-8e83-e15acb5c575a",
   "metadata": {},
   "outputs": [
    {
     "name": "stdout",
     "output_type": "stream",
     "text": [
      "abcdefghijklm\n",
      "abcdefghijklm\n",
      "nopqrstuvwxyz\n",
      "nopqrstuvwxyz\n",
      "acegikmoqsuwy\n",
      "zyxwvutsrqponmlkjihgfedcba\n",
      "zwtqnkheb\n"
     ]
    }
   ],
   "source": [
    "alphabet = 'abcdefghijklmnopqrstuvwxyz'\n",
    "\n",
    "print(alphabet[0:13]) # first half using starting and ending indices\n",
    "\n",
    "print(alphabet[:13]) # first half using only ending indices\n",
    "\n",
    "print(alphabet[13:26]) # second half using starting and ending indices\n",
    "\n",
    "print(alphabet[-13:]) # second half using only starting indices\n",
    "\n",
    "print(alphabet[0::2]) # every second letter starting with 'a'\n",
    "\n",
    "print(alphabet[::-1]) # entire string in reverse\n",
    "\n",
    "print(alphabet[-1::-3]) # every third letter in reverse starting with z"
   ]
  },
  {
   "cell_type": "markdown",
   "id": "c5c196d5-defb-4469-bea3-bee68556be6a",
   "metadata": {},
   "source": [
    "<h3>Q4[10]</h3> <p>Textbook Chapter 5, Q5.6.</p>"
   ]
  },
  {
   "cell_type": "code",
   "execution_count": 491,
   "id": "7c7efd4c-9397-4cc7-a2c0-8f30bf9eb453",
   "metadata": {},
   "outputs": [
    {
     "name": "stdout",
     "output_type": "stream",
     "text": [
      "1984 Doug 22\n"
     ]
    }
   ],
   "source": [
    "def rotate(a, b, c):\n",
    "    \n",
    "    return c, a, b\n",
    "    \n",
    "\n",
    "a = 'Doug'\n",
    "b = 22\n",
    "c = 1984\n",
    "\n",
    "a, b, c = rotate(a, b, c)\n",
    "print(a, b, c)"
   ]
  },
  {
   "cell_type": "code",
   "execution_count": 497,
   "id": "f9b258e7-0e42-4fd6-823d-a4aca3da64ee",
   "metadata": {},
   "outputs": [
    {
     "name": "stdout",
     "output_type": "stream",
     "text": [
      "(1984, 'Doug', 22)\n",
      "(22, 1984, 'Doug')\n",
      "('Doug', 22, 1984)\n"
     ]
    }
   ],
   "source": [
    "def rotate(tup, amt):\n",
    "    \n",
    "    return tup[-amt:] + tup[:-amt]\n",
    "\n",
    "mtuple = ('Doug', 22, 1984)\n",
    "\n",
    "print(rotate(mtuple, 1))\n",
    "print(rotate(mtuple, 2))\n",
    "print(rotate(mtuple, 3))"
   ]
  },
  {
   "cell_type": "markdown",
   "id": "dccccb12-18cf-4c6b-8d68-a24d9d1d272c",
   "metadata": {},
   "source": [
    "<h3>Q5[15]</h3> <p>Textbook Chapter 5, Q5.7.</p>"
   ]
  },
  {
   "cell_type": "code",
   "execution_count": 49,
   "id": "645e40b6-dcac-49e5-aac2-302963ab42ca",
   "metadata": {},
   "outputs": [
    {
     "name": "stdout",
     "output_type": "stream",
     "text": [
      "['a', 'b', 'c', 'f', 'g', 'z']\n"
     ]
    }
   ],
   "source": [
    "def unique_sorted_list(mlist):\n",
    "    \n",
    "    mlist = list(set(mlist))\n",
    "    \n",
    "    mlist.sort()\n",
    "    \n",
    "    return mlist\n",
    "\n",
    "#mlist = [1, 5, 2, 4, 3, 8, 7, 2, 1]\n",
    "\n",
    "mlist = ['c', 'c', 'a', 'b', 'f', 'g', 'z']\n",
    "\n",
    "print(unique_sorted_list(mlist))"
   ]
  },
  {
   "cell_type": "markdown",
   "id": "e9191675-d743-4c54-b92c-63735dbce4d7",
   "metadata": {},
   "source": [
    "<h3>Q6[15]</h3> <p>Simulate the rolling of two dice 1000 times and record the frequency of each \n",
    "outcome (number on die1, number on die2) using a two dimensional list. Note : there are 36 possible outcomes, when you roll two dice.  Write a function to print the two dimensional frequency map in tabular format. </p>"
   ]
  },
  {
   "cell_type": "code",
   "execution_count": 415,
   "id": "212de652-5084-43d5-8cc9-539d90dbd15b",
   "metadata": {},
   "outputs": [
    {
     "name": "stdout",
     "output_type": "stream",
     "text": [
      "  Frequency Table of Dice Rolls\n",
      "       1   2   3   4   5   6\n",
      "   1  32  28  32  22  29  28  \n",
      "   2  22  24  34  23  30  33  \n",
      "   3  25  25  28  35  32  30  \n",
      "   4  29  25  28  22  26  22  \n",
      "   5  30  28  28  31  29  31  \n",
      "   6  25  26  20  22  24  42  \n"
     ]
    }
   ],
   "source": [
    "import random\n",
    "\n",
    "def display_table(space):\n",
    "    \n",
    "    print('       1   2   3   4   5   6')\n",
    "    x = 1\n",
    "    for i in range(len(space)):\n",
    "        print('  ',x,' ', end='')\n",
    "        \n",
    "        for j in range(len(space[i])):\n",
    "            print(space[i][j], ' ', end='')\n",
    "            \n",
    "        x += 1\n",
    "        \n",
    "        print('')\n",
    "        \n",
    "    \n",
    "# empty table\n",
    "a_init = [[0, 0, 0, 0, 0, 0], \n",
    "          [0, 0, 0, 0, 0, 0], \n",
    "          [0, 0, 0, 0, 0, 0],\n",
    "          [0, 0, 0, 0, 0, 0],\n",
    "          [0, 0, 0, 0, 0, 0],\n",
    "          [0, 0, 0, 0, 0, 0]] \n",
    "\n",
    "spaces = a_init.copy()\n",
    "\n",
    "\n",
    "\n",
    "dice_rolls = [[]]\n",
    "\n",
    "for roll in range(1000):\n",
    "    \n",
    "    for i in range(0, 1):\n",
    "        \n",
    "        roll1 = random.randrange(1, 7)\n",
    "        roll2 = random.randrange(1, 7)\n",
    "        \n",
    "        dice_rolls[i].append([roll1, roll2])\n",
    "\n",
    "        \n",
    "for i in range(1000):\n",
    "    \n",
    "    # row 0\n",
    "    if dice_rolls[0][i][0] == 1 and dice_rolls[0][i][1] == 1:\n",
    "        \n",
    "        spaces[0][0] += 1\n",
    "        \n",
    "    elif dice_rolls[0][i][0] == 1 and dice_rolls[0][i][1] == 2:\n",
    "        \n",
    "        spaces[0][1] += 1\n",
    "        \n",
    "    elif dice_rolls[0][i][0] == 1 and dice_rolls[0][i][1] == 3:\n",
    "        \n",
    "        spaces[0][2] += 1\n",
    "        \n",
    "    elif dice_rolls[0][i][0] == 1 and dice_rolls[0][i][1] == 4:\n",
    "        \n",
    "        spaces[0][3] += 1\n",
    "        \n",
    "    elif dice_rolls[0][i][0] == 1 and dice_rolls[0][i][1] == 5:\n",
    "        \n",
    "        spaces[0][4] += 1\n",
    "        \n",
    "    elif dice_rolls[0][i][0] == 1 and dice_rolls[0][i][1] == 6:\n",
    "        \n",
    "        spaces[0][5] += 1\n",
    "        \n",
    "        \n",
    "    # row 1 \n",
    "    elif dice_rolls[0][i][0] == 2 and dice_rolls[0][i][1] == 1:\n",
    "        \n",
    "        spaces[1][0] += 1\n",
    "        \n",
    "    elif dice_rolls[0][i][0] == 2 and dice_rolls[0][i][1] == 2:\n",
    "        \n",
    "        spaces[1][1] += 1\n",
    "        \n",
    "    elif dice_rolls[0][i][0] == 2 and dice_rolls[0][i][1] == 3:\n",
    "        \n",
    "        spaces[1][2] += 1\n",
    "        \n",
    "    elif dice_rolls[0][i][0] == 2 and dice_rolls[0][i][1] == 4:\n",
    "        \n",
    "        spaces[1][3] += 1\n",
    "        \n",
    "    elif dice_rolls[0][i][0] == 2 and dice_rolls[0][i][1] == 5:\n",
    "        \n",
    "        spaces[1][4] += 1\n",
    "        \n",
    "    elif dice_rolls[0][i][0] == 2 and dice_rolls[0][i][1] == 6:\n",
    "        \n",
    "        spaces[1][5] += 1\n",
    "        \n",
    "        \n",
    "    # row 2\n",
    "    elif dice_rolls[0][i][0] == 3 and dice_rolls[0][i][1] == 1:\n",
    "        \n",
    "        spaces[2][0] += 1\n",
    "        \n",
    "    elif dice_rolls[0][i][0] == 3 and dice_rolls[0][i][1] == 2:\n",
    "        \n",
    "        spaces[2][1] += 1\n",
    "        \n",
    "    elif dice_rolls[0][i][0] == 3 and dice_rolls[0][i][1] == 3:\n",
    "        \n",
    "        spaces[2][2] += 1\n",
    "        \n",
    "    elif dice_rolls[0][i][0] == 3 and dice_rolls[0][i][1] == 4:\n",
    "        \n",
    "        spaces[2][3] += 1\n",
    "        \n",
    "    elif dice_rolls[0][i][0] == 3 and dice_rolls[0][i][1] == 5:\n",
    "        \n",
    "        spaces[2][4] += 1\n",
    "        \n",
    "    elif dice_rolls[0][i][0] == 3 and dice_rolls[0][i][1] == 6:\n",
    "        \n",
    "        spaces[2][5] += 1\n",
    "      \n",
    "        \n",
    "    # row 3\n",
    "    elif dice_rolls[0][i][0] == 4 and dice_rolls[0][i][1] == 1:\n",
    "        \n",
    "        spaces[3][0] += 1\n",
    "        \n",
    "    elif dice_rolls[0][i][0] == 4 and dice_rolls[0][i][1] == 2:\n",
    "        \n",
    "        spaces[3][1] += 1\n",
    "        \n",
    "    elif dice_rolls[0][i][0] == 4 and dice_rolls[0][i][1] == 3:\n",
    "        \n",
    "        spaces[3][2] += 1\n",
    "        \n",
    "    elif dice_rolls[0][i][0] == 4 and dice_rolls[0][i][1] == 4:\n",
    "        \n",
    "        spaces[3][3] += 1\n",
    "        \n",
    "    elif dice_rolls[0][i][0] == 4 and dice_rolls[0][i][1] == 5:\n",
    "        \n",
    "        spaces[3][4] += 1\n",
    "        \n",
    "    elif dice_rolls[0][i][0] == 4 and dice_rolls[0][i][1] == 6:\n",
    "        \n",
    "        spaces[3][5] += 1\n",
    "        \n",
    "        \n",
    "    # row 4\n",
    "    elif dice_rolls[0][i][0] == 5 and dice_rolls[0][i][1] == 1:\n",
    "        \n",
    "        spaces[4][0] += 1\n",
    "        \n",
    "    elif dice_rolls[0][i][0] == 5 and dice_rolls[0][i][1] == 2:\n",
    "        \n",
    "        spaces[4][1] += 1\n",
    "        \n",
    "    elif dice_rolls[0][i][0] == 5 and dice_rolls[0][i][1] == 3:\n",
    "        \n",
    "        spaces[4][2] += 1\n",
    "        \n",
    "    elif dice_rolls[0][i][0] == 5 and dice_rolls[0][i][1] == 4:\n",
    "        \n",
    "        spaces[4][3] += 1\n",
    "        \n",
    "    elif dice_rolls[0][i][0] == 5 and dice_rolls[0][i][1] == 5:\n",
    "        \n",
    "        spaces[4][4] += 1\n",
    "        \n",
    "    elif dice_rolls[0][i][0] == 5 and dice_rolls[0][i][1] == 6:\n",
    "        \n",
    "        spaces[4][5] += 1\n",
    "        \n",
    "        \n",
    "    # row 5\n",
    "    elif dice_rolls[0][i][0] == 6 and dice_rolls[0][i][1] == 1:\n",
    "        \n",
    "        spaces[5][0] += 1\n",
    "        \n",
    "    elif dice_rolls[0][i][0] == 6 and dice_rolls[0][i][1] == 2:\n",
    "        \n",
    "        spaces[5][1] += 1\n",
    "        \n",
    "    elif dice_rolls[0][i][0] == 6 and dice_rolls[0][i][1] == 3:\n",
    "        \n",
    "        spaces[5][2] += 1\n",
    "        \n",
    "    elif dice_rolls[0][i][0] == 6 and dice_rolls[0][i][1] == 4:\n",
    "        \n",
    "        spaces[5][3] += 1\n",
    "        \n",
    "    elif dice_rolls[0][i][0] == 6 and dice_rolls[0][i][1] == 5:\n",
    "        \n",
    "        spaces[5][4] += 1\n",
    "        \n",
    "    elif dice_rolls[0][i][0] == 6 and dice_rolls[0][i][1] == 6:\n",
    "        \n",
    "        spaces[5][5] += 1\n",
    "        \n",
    "# displaying our frequency table\n",
    "print('  Frequency Table of Dice Rolls')\n",
    "display_table(spaces)\n",
    "\n"
   ]
  },
  {
   "cell_type": "markdown",
   "id": "0da9a817-10cb-461e-b73e-f63ded41e547",
   "metadata": {},
   "source": [
    "<h3>Q7[15]</h3> <p>Samples of temperature is taken 5 times each day throughout the week. Create a dictionary to record the temperature samples. Use the day of the week ('monday', 'tuesday' etc) as <b> key </b>. a) Write a function to randomly generate the temperature in the range [50, 60] and populate your dictionary. b) Write a function which will take the day of the week as parameter and return the average temperature in that day. </p>"
   ]
  },
  {
   "cell_type": "code",
   "execution_count": 487,
   "id": "0adffa0d-d434-44d0-bb46-7b1a9954306b",
   "metadata": {},
   "outputs": [
    {
     "name": "stdin",
     "output_type": "stream",
     "text": [
      "enter the day of week (lowercase) sunday\n"
     ]
    },
    {
     "name": "stdout",
     "output_type": "stream",
     "text": [
      "The average temp of sunday is 277\n"
     ]
    }
   ],
   "source": [
    "def avg_temp(temps): # calculating average temps\n",
    "    \n",
    "    avg_temps = []\n",
    "    \n",
    "    for i in range(len(temperatures)):\n",
    "        \n",
    "        avg_temps.append(sum(temperatures[i]))\n",
    "        \n",
    "    return avg_temps\n",
    "\n",
    "def avg_temp_day(dayofweek): # function that takes day of the week as parameter and returns average temperature\n",
    "    \n",
    "    temperature_dict['sunday'] = mlist[0]\n",
    "    temperature_dict['monday'] = mlist[1]\n",
    "    temperature_dict['tuesday'] = mlist[2]\n",
    "    temperature_dict['wednesday'] = mlist[3]\n",
    "    temperature_dict['thursday'] = mlist[4]\n",
    "    temperature_dict['friday'] = mlist[5]\n",
    "    temperature_dict['saturday'] = mlist[6]\n",
    "    \n",
    "    if dayofweek == 'sunday':\n",
    "        \n",
    "        return mlist[0]\n",
    "    \n",
    "    elif dayofweek == 'monday':\n",
    "        \n",
    "        return mlist[1]\n",
    "    \n",
    "    elif dayofweek == 'tuesday':\n",
    "        \n",
    "        return mlist[2]\n",
    "    \n",
    "    elif dayofweek == 'wednesday':\n",
    "        \n",
    "        return mlist[3]\n",
    "    \n",
    "    elif dayofweek == 'thursday':\n",
    "        \n",
    "        return mlist[4]\n",
    "    \n",
    "    elif dayofweek == 'friday':\n",
    "        \n",
    "        return mlist[5]\n",
    "    \n",
    "    elif dayofweek == 'saturday':\n",
    "        \n",
    "        return mlist[6]\n",
    "    \n",
    "temperatures = []\n",
    "\n",
    "for i in range(7):\n",
    "    \n",
    "    temperatures.append([])\n",
    "    \n",
    "    for j in range(5):\n",
    "        \n",
    "        temp = random.randrange(50, 60)\n",
    "        temperatures[i].append(temp)\n",
    "        \n",
    "\n",
    "mlist = avg_temp(temperatures)\n",
    "\n",
    "keys = ['sunday', 'monday', 'tuesday', 'wednesday', 'thursday', 'friday', 'saturday'] # defining keys for dictionary\n",
    "\n",
    "temperature_dict = {key: None for key in keys} # defining a dictionary with days of week as our keys\n",
    "\n",
    "dayofweek = input('enter the day of week (lowercase)') # user enters day of week\n",
    "\n",
    "print(f'The average temp of {dayofweek} is',avg_temp_day(dayofweek))"
   ]
  }
 ],
 "metadata": {
  "kernelspec": {
   "display_name": "Python 3",
   "language": "python",
   "name": "python3"
  },
  "language_info": {
   "codemirror_mode": {
    "name": "ipython",
    "version": 3
   },
   "file_extension": ".py",
   "mimetype": "text/x-python",
   "name": "python",
   "nbconvert_exporter": "python",
   "pygments_lexer": "ipython3",
   "version": "3.8.8"
  }
 },
 "nbformat": 4,
 "nbformat_minor": 5
}

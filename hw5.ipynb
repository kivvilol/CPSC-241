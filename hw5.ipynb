{
 "cells": [
  {
   "cell_type": "markdown",
   "id": "6550a855",
   "metadata": {},
   "source": [
    "<html>\n",
    "<body>\n",
    "    <h2>CPSC 241 B - Homework 5</h2>\n",
    "    <h3><font color='red'>Due by Oct. 29, 11.00 PM</font></h3>\n",
    "    <p>Write Python code for each of the questions below. Insert a new cell below each\n",
    "        question and add your code. </p>\n",
    "    <p>Upload your completed Python notebook file only.</p>\n",
    "      <p>  <b>Use meaningful text when prompting for inputs and printing; write brief comments using #.</b></p>\n",
    "    <p> You <b>may use</b> input(), print(), random library, math library functions in your coding. You <em>may not</em> use concepts related to lists, arrays, indexing, string indexes, string operations, in (contains) operator to solve the below problems. No credit will be given.</p>\n",
    "    </body>\n",
    "</html>"
   ]
  },
  {
   "cell_type": "markdown",
   "id": "6e8f283a",
   "metadata": {},
   "source": [
    "<p> <b>For all the questions below, add appropriate error checking code such as detecting if a number is not in expected input range, printing error messages to inform the user etc. </b></p>"
   ]
  },
  {
   "cell_type": "markdown",
   "id": "86e0ec80",
   "metadata": {},
   "source": [
    "<h3>Q1[15]</h3>  <p>Page 152, Exercise 4.10. In addition, add code to print the number of guesses made. Play the game 10 times. What is the average number of guesses made ? </p>\n"
   ]
  },
  {
   "cell_type": "code",
   "execution_count": 14,
   "id": "0409b620",
   "metadata": {},
   "outputs": [
    {
     "name": "stdin",
     "output_type": "stream",
     "text": [
      "enter an integer (1 - 1000): 500\n"
     ]
    },
    {
     "name": "stdout",
     "output_type": "stream",
     "text": [
      "Too low, try again\n"
     ]
    },
    {
     "name": "stdin",
     "output_type": "stream",
     "text": [
      "enter an integer (1 - 1000): 750\n"
     ]
    },
    {
     "name": "stdout",
     "output_type": "stream",
     "text": [
      "Too low, try again\n"
     ]
    },
    {
     "name": "stdin",
     "output_type": "stream",
     "text": [
      "enter an integer (1 - 1000): 800\n"
     ]
    },
    {
     "name": "stdout",
     "output_type": "stream",
     "text": [
      "Too high, try again\n"
     ]
    },
    {
     "name": "stdin",
     "output_type": "stream",
     "text": [
      "enter an integer (1 - 1000): 775\n"
     ]
    },
    {
     "name": "stdout",
     "output_type": "stream",
     "text": [
      "Too low, try again\n"
     ]
    },
    {
     "name": "stdin",
     "output_type": "stream",
     "text": [
      "enter an integer (1 - 1000): 785\n"
     ]
    },
    {
     "name": "stdout",
     "output_type": "stream",
     "text": [
      "Too low, try again\n"
     ]
    },
    {
     "name": "stdin",
     "output_type": "stream",
     "text": [
      "enter an integer (1 - 1000): 790\n"
     ]
    },
    {
     "name": "stdout",
     "output_type": "stream",
     "text": [
      "Too low, try again\n"
     ]
    },
    {
     "name": "stdin",
     "output_type": "stream",
     "text": [
      "enter an integer (1 - 1000): 795\n"
     ]
    },
    {
     "name": "stdout",
     "output_type": "stream",
     "text": [
      "Congratulations, you guess the number!\n"
     ]
    },
    {
     "name": "stdin",
     "output_type": "stream",
     "text": [
      "Would you like to play again (yes or no)? no\n"
     ]
    },
    {
     "name": "stdout",
     "output_type": "stream",
     "text": [
      "Thanks for playing!\n"
     ]
    }
   ],
   "source": [
    "# Write a script that plays \"guess the number\". Choose the number to be guessed by selecting a random integer in the range 1 to 1000. Do not reveal this number to the user. \n",
    "# Display the prompt \"Guess my number between 1 and 1000 with the fewest guesses:\". The player inputs a first guess. If the guess is incorrect, display \"Too high, try again\" or \n",
    "# \"Too low, try again\" as appropriate to help the player zero in on the correct answer, then prompt the user for the next guess. When the user enters the correct answer, display \n",
    "# \"Congratulations, you guessed the number!\", and allow the user to choose whether to play again. \n",
    "\n",
    "import random\n",
    "\n",
    "correct = random.randrange(1, 1001)\n",
    "\n",
    "guess = int(input('enter an integer (1 - 1000):'))\n",
    "\n",
    "\n",
    "while guess != correct:\n",
    "    \n",
    "    if guess <= 0 or guess > 1000:\n",
    "        \n",
    "        print('Input out of range, please re-enter your number')\n",
    "        break\n",
    "    \n",
    "    elif guess < correct:\n",
    "    \n",
    "        print('Too low, try again')\n",
    "    \n",
    "        guess = int(input('enter an integer (1 - 1000):'))\n",
    "    \n",
    "    elif guess > correct:\n",
    "        \n",
    "        print('Too high, try again')\n",
    "        \n",
    "        guess = int(input('enter an integer (1 - 1000):'))\n",
    "    \n",
    "if guess == correct:\n",
    "    \n",
    "        print('Congratulations, you guess the number!')\n",
    "    \n",
    "        again = input('Would you like to play again (yes or no)?')\n",
    "        \n",
    "        if again == 'yes':\n",
    "            \n",
    "            correct = random.randrange(1, 1001)\n",
    "            \n",
    "            guess = int(input('enter an integer (1 - 1000):'))\n",
    "        \n",
    "        else:\n",
    "            \n",
    "            print('Thanks for playing!')"
   ]
  },
  {
   "cell_type": "markdown",
   "id": "d3db2fca",
   "metadata": {},
   "source": [
    "<h3>Q2[25]</h3>\n",
    "<p>Write code to compute the area and/or volume of any 3 shapes of your choosing. Each area/volume computation must be implemented as a seperate function (total of 3 functions). You must pass the required parameters for computing the area/volume and return the result back from the function. Also, your code must allow the user to choose <em>one or more</em> of the shapes. </p>"
   ]
  },
  {
   "cell_type": "code",
   "execution_count": 16,
   "id": "60da063e",
   "metadata": {},
   "outputs": [
    {
     "name": "stdin",
     "output_type": "stream",
     "text": [
      "How many shapes would you like to calculate? (1 - 3): 1\n",
      "Select the shape you would like to compute (cir, cyl, rec) cyl\n",
      "enter the radius: 4\n",
      "enter the height: 5\n"
     ]
    },
    {
     "name": "stdout",
     "output_type": "stream",
     "text": [
      "The volume of your cylinder is 251.3272\n"
     ]
    }
   ],
   "source": [
    "# area of circle = pi*r^2\n",
    "def cir_area(r):\n",
    "    pi = 3.14159\n",
    "    return pi * (r * r)\n",
    "\n",
    "# volume of cylinder = pi*r^2 * h\n",
    "def cyl_vol(r, h):\n",
    "    pi = 3.14159\n",
    "    return pi * (r * r) * h\n",
    "\n",
    "# area of a rectangle\n",
    "def rec_area(l, w):\n",
    "    return l * w\n",
    "\n",
    "amount = int(input('How many shapes would you like to calculate? (1 - 3):'))\n",
    "\n",
    "if amount == 1:    \n",
    "    \n",
    "    shape_select = input('Select the shape you would like to compute (cir, cyl, rec)')\n",
    "    \n",
    "    if shape_select == 'cir':\n",
    "        r = float(input('enter the radius:'))\n",
    "        cir = cir_area(r)\n",
    "        print('The area of your circle is', cir)\n",
    "        \n",
    "    elif shape_select == 'cyl':\n",
    "        r = float(input('enter the radius:'))\n",
    "        h = float(input('enter the height:'))\n",
    "        cyl = cyl_vol(r, h)\n",
    "        print('The volume of your cylinder is', cyl)\n",
    "        \n",
    "    elif shape_select == 'rec':\n",
    "        l = float(input('enter the length:'))\n",
    "        w = float(input('enter the width:'))\n",
    "        rec = rec_area(l, w)\n",
    "        print('The area of your rectangle is:', rec)\n",
    "        \n",
    "    else:\n",
    "        print('Shape selection not recognized, please re-enter your shape types')\n",
    "\n",
    "elif amount == 2:\n",
    "    \n",
    "    shape_select = input('Select the first shape you would like to compute (cir, cyl, rec)') \n",
    "    shape_select_2 = input('Select the second shape you would like to compute (cir, cyl, rec)')\n",
    "    \n",
    "    if (shape_select == 'cir' and shape_select_2 == 'cyl') or (shape_select == 'cyl' and shape_select_2 == 'cir'):\n",
    "        r_cir = float(input('enter the radius of the circle:'))\n",
    "        r_cyl = float(input('enter the radius of the cylinder:'))\n",
    "        h = float(input('enter the height of the cylinder:'))\n",
    "        cir = cir_area(r_cir)\n",
    "        cyl = cyl_vol(r_cyl, h)\n",
    "        print('The area of your circle is', cir)\n",
    "        print('The volume of your cylinder is', cyl)\n",
    "        \n",
    "    elif (shape_select == 'cir' and shape_select_2 == 'rec') or (shape_select == 'rec' and shape_select_2 == 'cir'):\n",
    "        r_cir = float(input('enter the radius of the circle:'))\n",
    "        l_rec = float(input('enter the length of the rectangle:'))\n",
    "        w_rec = float(input('enter the width of the rectangle'))\n",
    "        cir = cir_area(r_cir)\n",
    "        rec = rec_area(l_rec, w_rec)\n",
    "        print('The area of your circle is', cir)\n",
    "        print('The area of your rectangle is', rec)\n",
    "        \n",
    "    elif (shape_select == 'cyl' and shape_select_2 == 'rec') or (shape_select == 'rec' and shape_select_2 == 'cyl'):\n",
    "        r_cyl = float(input('enter the radius of the cylinder:'))\n",
    "        h = float(input('enter the height of the cylinder:'))\n",
    "        l_rec = float(input('enter the length of the rectangle:'))\n",
    "        w_rec = float(input('enter the width of the rectangle:'))\n",
    "        cyl = cyl_vol(r_cyl, h)\n",
    "        rec = rec_area(l_rec, w_rec)\n",
    "        print('The volume of your cylinder is', cyl)\n",
    "        print('The area of your rectangle is', rec)\n",
    "    else:\n",
    "        print('Shape selection not recognized, please re-enter your shape types')\n",
    "        \n",
    "elif amount == 3:\n",
    "    r_cir = float(input('enter the radius of the circle:'))\n",
    "    r_cyl = float(input('enter the radius of the cylinder:'))\n",
    "    h = float(input('enter the height of the cylinder:'))\n",
    "    l_rec = float(input('enter the length of the rectangle:'))\n",
    "    w_rec = float(input('enter the width of the rectangle:'))\n",
    "    cir = cir_area(r_cir)\n",
    "    cyl = cyl_vol(r_cyl, h)\n",
    "    rec = rec_area(l_rec, w_rec)\n",
    "    print('The area of your circle is', cir)\n",
    "    print('The volume of your cylinder is', cyl)\n",
    "    print('The area of your rectangle is', rec)\n",
    "\n",
    "else:\n",
    "    print('Input out of range, please re-enter your number of shapes to calculate')"
   ]
  },
  {
   "cell_type": "markdown",
   "id": "96af9be8",
   "metadata": {},
   "source": [
    "<h3>Q3[20]</h3>\n",
    "<p>A Pythagorean triplett is a group of three numbers (x,y,z) such that x<sup>2</sup>+y<sup>2</sup>=z<sup>2</sup>. For example, (3, 4, 5) is one such Pythagorean triplett. Write a function that will determine whether a given triplett is Pythagorean or not. Prompt the user to input <b>N</b> tripletts (one triplett at a time) and use your function to test each triplett. Note - <em>you will need to use a while loop and call your function inside the loop.</em> </p>"
   ]
  },
  {
   "cell_type": "code",
   "execution_count": 17,
   "id": "b0fccbef",
   "metadata": {},
   "outputs": [
    {
     "name": "stdin",
     "output_type": "stream",
     "text": [
      "Enter the number of triplets you would like to verify: 3\n",
      "enter x: 3\n",
      "enter y: 4\n",
      "enter z: 5\n"
     ]
    },
    {
     "name": "stdout",
     "output_type": "stream",
     "text": [
      "This is a Pythagoreon triplet\n"
     ]
    },
    {
     "name": "stdin",
     "output_type": "stream",
     "text": [
      "enter x: 3\n",
      "enter y: 4\n",
      "enter z: 5\n"
     ]
    },
    {
     "name": "stdout",
     "output_type": "stream",
     "text": [
      "This is a Pythagoreon triplet\n"
     ]
    },
    {
     "name": "stdin",
     "output_type": "stream",
     "text": [
      "enter x: 4\n",
      "enter y: 5\n",
      "enter z: 6\n"
     ]
    },
    {
     "name": "stdout",
     "output_type": "stream",
     "text": [
      "This is not a Pythagoreon triplet\n"
     ]
    }
   ],
   "source": [
    "def triplet(x, y, z):\n",
    "    left = x**2 + y**2 \n",
    "    right = z**2\n",
    "    \n",
    "    if left == right:\n",
    "        trip = 1\n",
    "    else:\n",
    "        trip = 0\n",
    "        \n",
    "    return trip\n",
    "\n",
    "count = 0 \n",
    "\n",
    "num_triplets = int(input('Enter the number of triplets you would like to verify:'))\n",
    "\n",
    "while num_triplets > count:\n",
    "    x = int(input('enter x:'))\n",
    "    y = int(input('enter y:'))\n",
    "    z = int(input('enter z:'))\n",
    "    \n",
    "    triplet_test = triplet(x, y, z)\n",
    "    \n",
    "    if triplet_test == 1:\n",
    "        print('This is a Pythagoreon triplet')\n",
    "    else:\n",
    "        print('This is not a Pythagoreon triplet')\n",
    "    \n",
    "    count += 1"
   ]
  },
  {
   "cell_type": "markdown",
   "id": "2852c68b",
   "metadata": {},
   "source": [
    "<h3>Q4[15]</h3>\n",
    "<p>Write code to compute the sum of the squares of first N integers using a <b>for</b> loop and <b>range</b> function. NOTE - <em>you can use range(N) to generate numbers in the range 0 to N - 1</em></p>"
   ]
  },
  {
   "cell_type": "code",
   "execution_count": 11,
   "id": "b8bfa68d",
   "metadata": {},
   "outputs": [
    {
     "name": "stdin",
     "output_type": "stream",
     "text": [
      "enter your integer 10\n"
     ]
    },
    {
     "name": "stdout",
     "output_type": "stream",
     "text": [
      "The sum of squares for 10 is 385\n"
     ]
    }
   ],
   "source": [
    "def sum_squares(n):\n",
    "    \n",
    "    summation = 0\n",
    "    \n",
    "    for i in range(1, n + 1):\n",
    "        summation += (i * i) \n",
    "        \n",
    "    return summation\n",
    "\n",
    "n = int(input('enter your integer:'))\n",
    "\n",
    "result = sum_squares(n)\n",
    "\n",
    "print('The sum of squares for', n, 'is', result)"
   ]
  },
  {
   "cell_type": "markdown",
   "id": "b871f94d",
   "metadata": {},
   "source": [
    "<h3>Q5[10]</h3>\n",
    "<p>Add code inside the <b>for</b> loop below to print the string <em>'I have the power'</em> below.</p>"
   ]
  },
  {
   "cell_type": "code",
   "execution_count": null,
   "id": "75bf7221",
   "metadata": {},
   "outputs": [],
   "source": [
    "for ch in 'Ixhaveythezpower':\n",
    "    \n",
    "    if ch == 'x' or ch == 'y' or ch == 'z': # skipping the loop if the characters are x y or z\n",
    "        continue\n",
    "    else:\n",
    "        print(ch)"
   ]
  },
  {
   "cell_type": "code",
   "execution_count": null,
   "id": "3dd3dfd9",
   "metadata": {},
   "outputs": [],
   "source": [
    "fin_str = '' # creating an empty string to add our characters to\n",
    "\n",
    "for ch in 'Ixhaveythezpower':\n",
    "    \n",
    "    if ch == 'x' or ch == 'y' or ch == 'z':\n",
    "        continue\n",
    "    else:\n",
    "        fin_str += ch\n",
    "\n",
    "print(fin_str)"
   ]
  },
  {
   "cell_type": "code",
   "execution_count": null,
   "id": "1d5fa79d",
   "metadata": {},
   "outputs": [],
   "source": [
    "##### FINAL SOLUTION BELOW #####"
   ]
  },
  {
   "cell_type": "code",
   "execution_count": 18,
   "id": "e49003d2",
   "metadata": {},
   "outputs": [
    {
     "name": "stdout",
     "output_type": "stream",
     "text": [
      "I have the power\n"
     ]
    }
   ],
   "source": [
    "fin_str = '' # creating an empty string to add our characters to\n",
    "\n",
    "for ch in 'Ixhaveythezpower':\n",
    "    \n",
    "    if ch == 'x' or ch == 'y' or ch == 'z':\n",
    "        fin_str += ' ' # adding a space where the character we dont want are\n",
    "    else:\n",
    "        fin_str += ch\n",
    "\n",
    "print(fin_str)"
   ]
  }
 ],
 "metadata": {
  "kernelspec": {
   "display_name": "Python 3",
   "language": "python",
   "name": "python3"
  },
  "language_info": {
   "codemirror_mode": {
    "name": "ipython",
    "version": 3
   },
   "file_extension": ".py",
   "mimetype": "text/x-python",
   "name": "python",
   "nbconvert_exporter": "python",
   "pygments_lexer": "ipython3",
   "version": "3.8.8"
  }
 },
 "nbformat": 4,
 "nbformat_minor": 5
}

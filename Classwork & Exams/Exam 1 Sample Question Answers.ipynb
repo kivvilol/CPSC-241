{
 "cells": [
  {
   "cell_type": "code",
   "execution_count": null,
   "metadata": {},
   "outputs": [],
   "source": [
    "# The code is missing the \"float\" argument before the input statement. The correct statement would be Myval = float(input('enter the number: '))"
   ]
  },
  {
   "cell_type": "code",
   "execution_count": 1,
   "metadata": {},
   "outputs": [
    {
     "name": "stdin",
     "output_type": "stream",
     "text": [
      "Enter the radius of your circle (between 3 and 9):   10\n"
     ]
    },
    {
     "name": "stdout",
     "output_type": "stream",
     "text": [
      "Radius is out of range, please re-enter radius\n"
     ]
    }
   ],
   "source": [
    "# Formula to calculate circumference of a circle based on a radius input\n",
    "radius = float(input('Enter the radius of your circle (between 3 and 9):  ')) # prompting user to enter radius\n",
    "\n",
    "if(radius <= 9) and (radius >= 3):\n",
    "    circum = 2 * 3.14 * radius # circumference of circle\n",
    "    print('The circumference of your circle is:', circum)\n",
    "else:\n",
    "    print('Radius is out of range, please re-enter radius')"
   ]
  },
  {
   "cell_type": "code",
   "execution_count": 7,
   "metadata": {},
   "outputs": [
    {
     "name": "stdin",
     "output_type": "stream",
     "text": [
      "Enter your five digit number:  123098132089123098123098123098123809123098123089312098\n"
     ]
    },
    {
     "name": "stdout",
     "output_type": "stream",
     "text": [
      "The sum of digits is: 207\n"
     ]
    }
   ],
   "source": [
    "### reading a 5 digit number input and computing the sum of the digits\n",
    "number = int(input('Enter your five digit number: '))\n",
    "dig_sum = 0\n",
    "\n",
    "while number:\n",
    "    dig_sum += number % 10 # adds our numbers, takes the remainder when divided by 10, then assigns them\n",
    "    number //= 10 # perform floor division and assign them\n",
    "print('The sum of digits is:', dig_sum)"
   ]
  },
  {
   "cell_type": "code",
   "execution_count": 51,
   "metadata": {},
   "outputs": [
    {
     "name": "stdin",
     "output_type": "stream",
     "text": [
      "How much money is deposited?: 1\n"
     ]
    },
    {
     "name": "stdout",
     "output_type": "stream",
     "text": [
      "Money Accepted\n",
      "Drink will be dispensed\n",
      "Your change is 2 quarters, 1 dime, and 5 pennies\n"
     ]
    }
   ],
   "source": [
    "## vending machine that accepts change, dispenses drink, and returns correct change\n",
    "\n",
    "drink_price = 0.35 \n",
    "deposit = float(input('How much money is deposited?:'))\n",
    "\n",
    "quarters = 0\n",
    "dimes = 0\n",
    "pennies = 0\n",
    "\n",
    "if(deposit > drink_price):\n",
    "    print('Money Accepted') # confirms money was deposited to machine\n",
    "    print('Drink will be dispensed')\n",
    "    quarters = (deposit - drink_price) // 0.25\n",
    "    dimes = ((deposit - drink_price) - (quarters * 0.25)) // 0.10\n",
    "    pennies = ((deposit - drink_price) - (quarters * 0.25) - (dimes * 0.10)) // 0.01\n",
    "    print('Your change is', int(quarters), 'quarters,', int(dimes), 'dime,', 'and', int(round(pennies, 2)), 'pennies')\n",
    "elif(deposit == drink_price):\n",
    "    print('Money Accepted') # confirms money was deposited to machine\n",
    "    print('Drink will be dispensed')\n",
    "    print('Have a nice day!')\n",
    "elif(deposit < drink_price):\n",
    "    print('Please insert your cash:', round(drink_price - deposit, 2), 'cents needed')"
   ]
  },
  {
   "cell_type": "code",
   "execution_count": 1,
   "metadata": {},
   "outputs": [
    {
     "name": "stdin",
     "output_type": "stream",
     "text": [
      "How many cents are deposited?: 100\n"
     ]
    },
    {
     "name": "stdout",
     "output_type": "stream",
     "text": [
      "Money Accepted\n",
      "Drink will be dispensed\n",
      "Your change is 2 quarters, 1 dime, and 5 pennies\n"
     ]
    }
   ],
   "source": [
    "## vending machine that accepts change, dispenses drink, and returns correct change\n",
    "\n",
    "deposit = int(input('How many cents are deposited?:'))\n",
    "\n",
    "drink_price = 35\n",
    "\n",
    "quarters = 25\n",
    "dimes = 10\n",
    "pennies = 1\n",
    "\n",
    "if(deposit > drink_price):\n",
    "    print('Money Accepted') # confirms money was deposited to machine\n",
    "    print('Drink will be dispensed')\n",
    "    quarters = (deposit - drink_price) // 25\n",
    "    dimes = ((deposit - drink_price) - (quarters * 25)) // 10\n",
    "    pennies = ((deposit - drink_price) - (quarters * 25) - (dimes * 10)) \n",
    "    if(quarters > 0):\n",
    "        if(dimes > 0):\n",
    "            if(pennies > 0):\n",
    "                print('Your change is', int(quarters), 'quarters,', int(dimes), 'dime,', 'and', int(pennies), 'pennies')\n",
    "            if(pennies == 0):\n",
    "                print('Your change is', int(quarters), 'quarters', 'and', int(dimes), 'dimes')\n",
    "        if(dimes == 0):\n",
    "            if(pennies > 0):\n",
    "                print('Your change is', int(quarters), 'quarters', 'and', int(pennies), 'pennies')\n",
    "            if(pennies == 0):\n",
    "                print('Your change is', int(quarters), 'quarters')     \n",
    "    if(quarters == 0):\n",
    "        if(dimes > 0):\n",
    "            if(pennies > 0):\n",
    "                print('Your change is', int(dimes), 'dimes', 'and', int(pennies), 'pennies')\n",
    "            if(pennies == 0):\n",
    "                print('Your change is', int(dimes), 'dimes')\n",
    "        if(dimes == 0):\n",
    "            print('Your change is', int(pennies), 'pennies')\n",
    "elif(deposit == drink_price):\n",
    "    print('Money Accepted') # confirms money was deposited to machine\n",
    "    print('Drink will be dispensed')\n",
    "    print('Have a nice day!')\n",
    "elif(deposit < drink_price):\n",
    "    print('Please insert your cash:', (drink_price - deposit), 'cents needed')"
   ]
  }
 ],
 "metadata": {
  "kernelspec": {
   "display_name": "Python 3",
   "language": "python",
   "name": "python3"
  },
  "language_info": {
   "codemirror_mode": {
    "name": "ipython",
    "version": 3
   },
   "file_extension": ".py",
   "mimetype": "text/x-python",
   "name": "python",
   "nbconvert_exporter": "python",
   "pygments_lexer": "ipython3",
   "version": "3.8.3"
  }
 },
 "nbformat": 4,
 "nbformat_minor": 4
}

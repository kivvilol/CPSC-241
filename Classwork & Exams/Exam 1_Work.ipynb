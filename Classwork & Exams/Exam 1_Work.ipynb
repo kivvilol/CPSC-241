{
 "cells": [
  {
   "cell_type": "code",
   "execution_count": null,
   "metadata": {},
   "outputs": [],
   "source": [
    "## Enter 21 integers, compute sum of each group of 3 number (in while loop), and print sum of each group of 3 numbers\n",
    "\n",
    "count = 0\n",
    "count2 = 0\n",
    "sum_num = 0\n",
    "\n",
    "\n",
    "while count < 21:\n",
    "    \n",
    "    number = int(input('enter your number (21 integers):'))\n",
    "    sum_num = number2 + number\n",
    "    \n",
    "    if count2 == 2:\n",
    "        print(sum_num)\n",
    "        number2 = 0\n",
    "        count2 = 0\n",
    "    \n",
    "    else:\n",
    "        count2 = count2 + 1\n",
    "        \n",
    "    count = count + 1"
   ]
  },
  {
   "cell_type": "code",
   "execution_count": null,
   "metadata": {},
   "outputs": [],
   "source": []
  }
 ],
 "metadata": {
  "kernelspec": {
   "display_name": "Python 3",
   "language": "python",
   "name": "python3"
  },
  "language_info": {
   "codemirror_mode": {
    "name": "ipython",
    "version": 3
   },
   "file_extension": ".py",
   "mimetype": "text/x-python",
   "name": "python",
   "nbconvert_exporter": "python",
   "pygments_lexer": "ipython3",
   "version": "3.8.3"
  }
 },
 "nbformat": 4,
 "nbformat_minor": 4
}

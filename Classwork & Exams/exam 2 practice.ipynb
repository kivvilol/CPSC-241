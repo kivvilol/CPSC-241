{
 "cells": [
  {
   "cell_type": "code",
   "execution_count": 8,
   "metadata": {},
   "outputs": [
    {
     "name": "stdin",
     "output_type": "stream",
     "text": [
      "enter the lower range -5\n",
      "enter the upper range 5\n"
     ]
    },
    {
     "name": "stdout",
     "output_type": "stream",
     "text": [
      "roots are = [-1]\n"
     ]
    }
   ],
   "source": [
    "# find a print the integer roots of the below function, if any, in the range [-5, 5]\n",
    "# F(x) = X^2 - 2x + 1\n",
    "# F(x) = 0\n",
    "\n",
    "def return_roots(root_range):\n",
    "    \n",
    "    lower = root_range[0]\n",
    "    \n",
    "    upper = root_range[1]\n",
    "    \n",
    "    root = []\n",
    "    \n",
    "    while lower <= upper:\n",
    "        \n",
    "        F = lower**2 + 2*lower + 1\n",
    "        \n",
    "        if F == 0:\n",
    "            \n",
    "            root.append(lower)\n",
    "            \n",
    "        lower += 1\n",
    "        \n",
    "    return root\n",
    "\n",
    "l = int(input('enter the lower range'))\n",
    "u = int(input('enter the upper range'))\n",
    "\n",
    "print('roots are =', return_roots([l, u]))\n",
    "    \n"
   ]
  },
  {
   "cell_type": "code",
   "execution_count": 33,
   "metadata": {},
   "outputs": [
    {
     "name": "stdin",
     "output_type": "stream",
     "text": [
      "enter your angle in radians 1.5\n",
      "how precise would you like your calculation to be?: 7\n"
     ]
    },
    {
     "name": "stdout",
     "output_type": "stream",
     "text": [
      "0.0707372049851851 0.0707372016677029\n"
     ]
    }
   ],
   "source": [
    "# write code to compute the cosine series:\n",
    "# x + x^2/2! + x^4/4! + x^6/6!\n",
    "\n",
    "import math\n",
    "\n",
    "def exp(x, n):\n",
    "    \n",
    "    return x**n\n",
    "\n",
    "\n",
    "def term_calc(angle):\n",
    "    \n",
    "    cos = 0\n",
    "    j = 0\n",
    "    sign = 1\n",
    "    \n",
    "    while j < precision:\n",
    "        \n",
    "        cos += sign * exp(x, 2*j) / math.factorial(2*j) \n",
    "        \n",
    "        sign = -sign\n",
    "        \n",
    "        j += 1\n",
    "        \n",
    "    return cos\n",
    "\n",
    "    \n",
    "x = float(input('enter your angle in radians'))\n",
    "\n",
    "n = int(input('how precise would you like your calculation to be?:'))\n",
    "\n",
    "print(term_calc(x), math.cos(angle))"
   ]
  },
  {
   "cell_type": "code",
   "execution_count": 40,
   "metadata": {},
   "outputs": [
    {
     "name": "stdin",
     "output_type": "stream",
     "text": [
      "enter a string: cpsc242fall2021hello\n"
     ]
    },
    {
     "name": "stdout",
     "output_type": "stream",
     "text": [
      "numeric chars ['2', '4', '2', '2', '0', '2', '1']\n",
      "sum is 13\n"
     ]
    }
   ],
   "source": [
    "# prompt the user to input a string. compute the sum of numeric characters in the string\n",
    "\n",
    "# cpsc242fall2021hello\n",
    "# sum = 2 + 4 + 2 + 2 + 0 + 2 + 1 = 13\n",
    "\n",
    "string = input('enter a string:')\n",
    "\n",
    "numericchars = []\n",
    "\n",
    "for ch in string:\n",
    "    \n",
    "    if ch == '1' or ch == '2' or ch == '3' or ch == '4' or ch == '5' or ch == '6' or ch == '7' or ch == '8' or ch == '9' or ch == '0':\n",
    "        \n",
    "        numericchars += [ch]\n",
    "        \n",
    "print('numeric chars', numericchars)\n",
    "\n",
    "summation = 0\n",
    "\n",
    "for ch in numericchars:\n",
    "    \n",
    "    summation += int(ch)\n",
    "    \n",
    "print('sum is', summation)"
   ]
  },
  {
   "cell_type": "code",
   "execution_count": 38,
   "metadata": {},
   "outputs": [
    {
     "name": "stdin",
     "output_type": "stream",
     "text": [
      "enter a string: cpsc242fall2021hello\n"
     ]
    },
    {
     "name": "stdout",
     "output_type": "stream",
     "text": [
      "numeric chars ['2', '4', '2', '2', '0', '2', '1']\n"
     ]
    }
   ],
   "source": [
    "# prompt the user to input a string. compute the sum of numeric characters in the string\n",
    "\n",
    "# cpsc242fall2021hello\n",
    "# sum = 2 + 4 + 2 + 2 + 0 + 2 + 1 = 13\n",
    "\n",
    "string = input('enter a string:')\n",
    "\n",
    "numericchars = []\n",
    "\n",
    "for ch in string:\n",
    "    \n",
    "    if ch in '1234567890':\n",
    "        \n",
    "        numericchars += [ch]\n",
    "        \n",
    "print('numeric chars', numericchars)\n",
    "\n",
    "summation = 0\n",
    "\n",
    "for ch in numericchars:\n",
    "    \n",
    "    summation += int(ch)\n",
    "    \n",
    "print('sum is', summation)"
   ]
  },
  {
   "cell_type": "code",
   "execution_count": 42,
   "metadata": {},
   "outputs": [
    {
     "name": "stdin",
     "output_type": "stream",
     "text": [
      "enter number of rows:  10\n"
     ]
    },
    {
     "name": "stdout",
     "output_type": "stream",
     "text": [
      "*******************\n",
      " *****************\n",
      "  ***************\n",
      "   *************\n",
      "    ***********\n",
      "     *********\n",
      "      *******\n",
      "       *****\n",
      "        ***\n",
      "         *\n"
     ]
    }
   ],
   "source": [
    "rows = int(input('enter number of rows: '))\n",
    "\n",
    "for i in range(rows, 0, -1):\n",
    "    \n",
    "    for j in range(rows - i):\n",
    "        \n",
    "        print(' ', end = '') # printing space and staying in same line\n",
    "    \n",
    "    for j in range(2 * i - 1):\n",
    "        print('*', end = '') # printing * and staying in same line\n",
    "    print() # printing new line "
   ]
  }
 ],
 "metadata": {
  "kernelspec": {
   "display_name": "Python 3",
   "language": "python",
   "name": "python3"
  },
  "language_info": {
   "codemirror_mode": {
    "name": "ipython",
    "version": 3
   },
   "file_extension": ".py",
   "mimetype": "text/x-python",
   "name": "python",
   "nbconvert_exporter": "python",
   "pygments_lexer": "ipython3",
   "version": "3.8.3"
  }
 },
 "nbformat": 4,
 "nbformat_minor": 4
}

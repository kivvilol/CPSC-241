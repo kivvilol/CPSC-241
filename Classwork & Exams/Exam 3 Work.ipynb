{
 "cells": [
  {
   "cell_type": "code",
   "execution_count": 640,
   "metadata": {},
   "outputs": [
    {
     "name": "stdout",
     "output_type": "stream",
     "text": [
      "{(5, 6): 11}\n"
     ]
    }
   ],
   "source": [
    "def key_value_sum(key):\n",
    "    \n",
    "    sum_dict = {}\n",
    "    \n",
    "    a, b = key\n",
    "    \n",
    "    sum_dict[key] = a + b\n",
    "    \n",
    "    return sum_dict\n",
    "\n",
    "\n",
    "key_tuple = (5, 6)\n",
    "\n",
    "result = key_value_sum(key_tuple)\n",
    "\n",
    "print(result)"
   ]
  },
  {
   "cell_type": "code",
   "execution_count": 1,
   "metadata": {},
   "outputs": [
    {
     "name": "stdin",
     "output_type": "stream",
     "text": [
      "enter the lower range: 10\n",
      "enter the upper range: 25\n"
     ]
    },
    {
     "name": "stdout",
     "output_type": "stream",
     "text": [
      "{(10, 11): 21, (11, 12): 23, (12, 13): 25, (13, 14): 27, (14, 15): 29, (15, 16): 31, (16, 17): 33, (17, 18): 35, (18, 19): 37, (19, 20): 39, (20, 21): 41, (21, 22): 43, (22, 23): 45, (23, 24): 47, (24, 25): 49}\n"
     ]
    }
   ],
   "source": [
    "def key_value_sum(lower, upper):\n",
    "    \n",
    "    sum_dict = {}\n",
    "\n",
    "    for i in range(lower, upper):\n",
    "    \n",
    "        sum_dict[i, i+1] = i + (i+1)\n",
    "    \n",
    "    return sum_dict\n",
    "\n",
    "\n",
    "lower_range = int(input('enter the lower range:'))\n",
    "upper_range = int(input('enter the upper range:'))\n",
    "\n",
    "result = key_value_sum(lower_range, upper_range)\n",
    "\n",
    "print(result)"
   ]
  },
  {
   "cell_type": "code",
   "execution_count": 667,
   "metadata": {},
   "outputs": [
    {
     "name": "stdout",
     "output_type": "stream",
     "text": [
      "['flq', 'azi', 'xnh', 'kas', 'pey', 'bns', 'ilo', 'qzg', 'cxf', 'yec']\n"
     ]
    }
   ],
   "source": [
    "import random\n",
    "\n",
    "def unique_three_char_str(letters):\n",
    "    \n",
    "    alphabet_list = []\n",
    "\n",
    "    while len(alphabet_list) != 10:\n",
    "            \n",
    "        random_num1 = random.randrange(0, 26)\n",
    "        random_num2 = random.randrange(0, 26)\n",
    "        random_num3 = random.randrange(0, 26)\n",
    "    \n",
    "        three_char_str = letters[0][random_num1] + letters[0][random_num2] + letters[0][random_num3]\n",
    "        \n",
    "        if three_char_str not in alphabet_list:\n",
    "        \n",
    "            alphabet_list += [three_char_str]\n",
    "            \n",
    "    return alphabet_list\n",
    "\n",
    "\n",
    "\n",
    "alphabet = 'abcdefghijklmnopqrstuvwxyz'\n",
    "\n",
    "letters = alphabet.split()\n",
    "\n",
    "answer = unique_three_char_str(letters)\n",
    "\n",
    "print(answer) "
   ]
  },
  {
   "cell_type": "code",
   "execution_count": 691,
   "metadata": {},
   "outputs": [
    {
     "name": "stdout",
     "output_type": "stream",
     "text": [
      "{2: 3, 1: 2, 3: 4}\n",
      "{3: 2, 2: 1, 4: 3}\n"
     ]
    }
   ],
   "source": [
    "def list_2d_count(your_2d_list):\n",
    "    \n",
    "    duplicate_count_dict = {}\n",
    "\n",
    "    for item in your_2d_list:\n",
    "    \n",
    "        for number in item:\n",
    "        \n",
    "            if number not in duplicate_count_dict:\n",
    "            \n",
    "                duplicate_count_dict[number] = 1\n",
    "            \n",
    "            else:\n",
    "            \n",
    "                duplicate_count_dict[number] += 1          \n",
    "                \n",
    "    return duplicate_count_dict\n",
    "    \n",
    "\n",
    "list_2d = [[2, 2, 1], \n",
    "           [2, 1, 3], \n",
    "           [3, 3, 3]]\n",
    "\n",
    "result = list_2d_count(list_2d)\n",
    "\n",
    "old_dict = result\n",
    "\n",
    "# swapping keys and values from result\n",
    "new_dict = dict([(value, key) for key, value in old_dict.items()])\n",
    "\n",
    "\n",
    "print(old_dict)\n",
    "print(new_dict)\n"
   ]
  }
 ],
 "metadata": {
  "kernelspec": {
   "display_name": "Python 3",
   "language": "python",
   "name": "python3"
  },
  "language_info": {
   "codemirror_mode": {
    "name": "ipython",
    "version": 3
   },
   "file_extension": ".py",
   "mimetype": "text/x-python",
   "name": "python",
   "nbconvert_exporter": "python",
   "pygments_lexer": "ipython3",
   "version": "3.8.3"
  }
 },
 "nbformat": 4,
 "nbformat_minor": 4
}

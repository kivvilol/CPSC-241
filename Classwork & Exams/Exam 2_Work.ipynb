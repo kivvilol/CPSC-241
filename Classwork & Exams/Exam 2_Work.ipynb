{
 "cells": [
  {
   "cell_type": "code",
   "execution_count": 1,
   "metadata": {},
   "outputs": [
    {
     "name": "stdin",
     "output_type": "stream",
     "text": [
      "enter a string djxyrasodfijxyr\n"
     ]
    },
    {
     "name": "stdout",
     "output_type": "stream",
     "text": [
      "The new string is djasodfij\n"
     ]
    }
   ],
   "source": [
    "def char_del(string):\n",
    "    \n",
    "    empty_str = ''\n",
    "    \n",
    "    for ch in string:\n",
    "        \n",
    "        if ch in 'xyr':\n",
    "            \n",
    "            continue\n",
    "            \n",
    "        else:\n",
    "            \n",
    "            empty_str += ch\n",
    "            \n",
    "    return empty_str\n",
    "            \n",
    "\n",
    "\n",
    "string_input = str(input('enter a string'))\n",
    "\n",
    "new_string = char_del(string_input)\n",
    "\n",
    "print('The new string is', new_string)\n",
    "\n",
    "# control flow"
   ]
  },
  {
   "cell_type": "code",
   "execution_count": 4,
   "metadata": {},
   "outputs": [
    {
     "name": "stdout",
     "output_type": "stream",
     "text": [
      "Player Wins\n"
     ]
    }
   ],
   "source": [
    "import random\n",
    "\n",
    "def result1(toss1):\n",
    "    \n",
    "    if toss1 == 0:\n",
    "        \n",
    "        return 'heads'\n",
    "    \n",
    "    else:\n",
    "        \n",
    "        return 'tails'\n",
    "\n",
    "def result2(toss2):\n",
    "    \n",
    "    if toss2 == 0:\n",
    "        \n",
    "        return 'heads'\n",
    "    \n",
    "    else:\n",
    "        \n",
    "        return 'tails'\n",
    "\n",
    "\n",
    "\n",
    "while True:\n",
    "    \n",
    "    cointoss1 = random.randrange(0, 2)\n",
    "    cointoss2 = random.randrange(0, 2)\n",
    "    \n",
    "    if (result1(cointoss1) == 'heads' and result2(cointoss2) == 'heads') or (result1(cointoss1) == 'tails' and result2(cointoss2) == 'tails'):\n",
    "        \n",
    "        print('Flipping 2 more coins')\n",
    "\n",
    "    elif result1(cointoss1) == 'heads' and result2(cointoss2) == 'tails':\n",
    "        \n",
    "        print('Player Wins')\n",
    "        \n",
    "        break\n",
    "        \n",
    "    elif result1(cointoss1) == 'tails' and result2(cointoss2) == 'heads':\n",
    "    \n",
    "        print('Player loses')\n",
    "        \n",
    "        break"
   ]
  }
 ],
 "metadata": {
  "kernelspec": {
   "display_name": "Python 3",
   "language": "python",
   "name": "python3"
  },
  "language_info": {
   "codemirror_mode": {
    "name": "ipython",
    "version": 3
   },
   "file_extension": ".py",
   "mimetype": "text/x-python",
   "name": "python",
   "nbconvert_exporter": "python",
   "pygments_lexer": "ipython3",
   "version": "3.8.3"
  }
 },
 "nbformat": 4,
 "nbformat_minor": 4
}

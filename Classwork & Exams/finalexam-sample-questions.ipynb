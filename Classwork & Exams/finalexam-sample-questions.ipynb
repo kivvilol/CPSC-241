{
 "cells": [
  {
   "cell_type": "code",
   "execution_count": null,
   "metadata": {},
   "outputs": [],
   "source": [
    "#CPSC 241\n",
    "#Final Exam 2021 Sample questions\n",
    "#Questions provided below are only for practice and do not represent\n",
    "#actual exam questions"
   ]
  },
  {
   "cell_type": "code",
   "execution_count": 40,
   "metadata": {},
   "outputs": [
    {
     "name": "stdout",
     "output_type": "stream",
     "text": [
      "True\n"
     ]
    }
   ],
   "source": [
    "#Q1 Write a function which takes two lists as parameters and determines if the first list is \n",
    "#contained in (every item in the first list must be present in the second list) the second list. \n",
    "\n",
    "#HINT : 1. Determine how to check if one item in the first list is present in second list. \n",
    "#       2. Extend the logic in step 1. to all items in the first list. \n",
    "\n",
    "def first_list_in_second(list1, list2):\n",
    "    \n",
    "    if len(list1) > len(list2):\n",
    "        \n",
    "        return False\n",
    "        \n",
    "    for item in list1:\n",
    "        \n",
    "        if item not in list2:\n",
    "            \n",
    "            return False\n",
    "        \n",
    "    return True\n",
    "    \n",
    "\n",
    "list1 = [1, 2, 3, 4]\n",
    "list2 = ['a', 'b', 'c', 'd']\n",
    "\n",
    "list3 = ['a', 'b', 'c', 'd', 'e']\n",
    "list4 = ['a', 'b', 'c', 'd', 'e']\n",
    "\n",
    "print(first_list_in_second(list3, list4))"
   ]
  },
  {
   "cell_type": "code",
   "execution_count": 2,
   "metadata": {},
   "outputs": [
    {
     "name": "stdout",
     "output_type": "stream",
     "text": [
      "True\n"
     ]
    }
   ],
   "source": [
    "#Q2 How would you use a dictionary to solve Q1. \n",
    "\n",
    "\n",
    "def first_list_in_second_dict(list1, list2):\n",
    "    \n",
    "    list_dict = {}\n",
    "    \n",
    "    for item in list1:\n",
    "        \n",
    "        list_dict[item] = 0\n",
    "        \n",
    "    for key in list_dict:\n",
    "        \n",
    "        if key not in list2:\n",
    "            \n",
    "            return False\n",
    "        \n",
    "    return True\n",
    "\n",
    "\n",
    "list1 = [1, 2, 3, 4]\n",
    "list2 = ['a', 'b', 'c', 'd']\n",
    "\n",
    "list3 = ['a', 'b', 'c', 'd', 'e']\n",
    "list4 = ['a', 'b', 'c', 'd', 'e']\n",
    "\n",
    "print(first_list_in_second_dict(list3, list4))"
   ]
  },
  {
   "cell_type": "code",
   "execution_count": 4,
   "metadata": {},
   "outputs": [
    {
     "name": "stdout",
     "output_type": "stream",
     "text": [
      "[1, 'a', 2, 'b', 3, 'c', 4, 'd']\n"
     ]
    }
   ],
   "source": [
    "#Q3 You are given two lists, list1, list2,  of same length. Merge list2 into list1 such that the items \n",
    "#in list1 and list2 appear alternatively. Print the merged list - list1.\n",
    "\n",
    "#Example\n",
    "#list1 = [1,2,3,4]\n",
    "#list2 = ['a', 'b', 'c', 'd']\n",
    "\n",
    "#merged list\n",
    "#list1 = [1, 'a', 2, 'b', 3, 'c', 4, 'd']\n",
    "\n",
    "def merge_list_alternating(list1, list2):\n",
    "    \n",
    "    return [new[item] for item in range(len(list2)) for new in [list1, list2]]\n",
    "    \n",
    "    \n",
    "list1 = [1, 2, 3, 4]\n",
    "list2 = ['a', 'b', 'c', 'd']\n",
    "\n",
    "result = merge_list_alternating(list1, list2)\n",
    "\n",
    "print(result)"
   ]
  },
  {
   "cell_type": "code",
   "execution_count": 27,
   "metadata": {},
   "outputs": [
    {
     "name": "stdout",
     "output_type": "stream",
     "text": [
      "9\n"
     ]
    }
   ],
   "source": [
    "#Q4 Find the largest item in a 2-D list.\n",
    "\n",
    "def find_largest_value(some_list):\n",
    "\n",
    "    largest_value = twodee_list[0][0]\n",
    "    \n",
    "    for outerlist in twodee_list:\n",
    "    \n",
    "        for number in outerlist:\n",
    "        \n",
    "            if number > largest_value:\n",
    "            \n",
    "                largest_value = number\n",
    "                \n",
    "    return largest_value\n",
    "\n",
    "twodee_list = [[1, 2, 3], [4, 5, 6], [7, 8, 9]]\n",
    "\n",
    "print(find_largest_value(twodee_list))"
   ]
  },
  {
   "cell_type": "code",
   "execution_count": 5,
   "metadata": {},
   "outputs": [
    {
     "name": "stdin",
     "output_type": "stream",
     "text": [
      "enter m: 5\n",
      "enter n: 4\n"
     ]
    },
    {
     "name": "stdout",
     "output_type": "stream",
     "text": [
      "[['*', '*', '*', '*'], ['$', '$', '$', '$'], ['*', '*', '*', '*'], ['$', '$', '$', '$'], ['*', '*', '*', '*']]\n"
     ]
    }
   ],
   "source": [
    "#Q5 Create a 2D matrix in which rows are alternatively filled with * and $ characters.\n",
    "\n",
    "m = int(input('enter m:'))\n",
    "n = int(input('enter n:'))\n",
    "\n",
    "mat = []\n",
    "\n",
    "for i in range(m):\n",
    "    \n",
    "    if i % 2 == 0:\n",
    "        l = ['*'] * n\n",
    "        \n",
    "    else:\n",
    "        l = ['$'] * n\n",
    "        \n",
    "    mat.append(l)\n",
    "    \n",
    "print(mat)"
   ]
  },
  {
   "cell_type": "code",
   "execution_count": null,
   "metadata": {},
   "outputs": [],
   "source": [
    "#Q6 What is wrong with the below code ?\n",
    "\n",
    "def whatiswrong(x):\n",
    "    for i in range(len(x)):\n",
    "        x[i] = 3\n",
    "\n",
    "    return x\n",
    "\n",
    "print(whatiswrong((1,2,3)))\n",
    "\n",
    "# we are passing a tuple into our function, which is immutable"
   ]
  },
  {
   "cell_type": "code",
   "execution_count": 6,
   "metadata": {},
   "outputs": [
    {
     "data": {
      "text/plain": [
       "([(1, 'a'), (3, 'b'), (0, 'c'), (4, 'd')],\n",
       " [(0, 'c'), (1, 'a'), (3, 'b'), (4, 'd')])"
      ]
     },
     "execution_count": 6,
     "metadata": {},
     "output_type": "execute_result"
    }
   ],
   "source": [
    "#Q7 Create a sorted list of key-value pairs in the dictionary.\n",
    "#using sorted function\n",
    "\n",
    "mdict = {1 : 'a', 3 : 'b', 0 : 'c', 4 : 'd'}\n",
    "\n",
    "x = list(mdict.items())\n",
    "y = sorted(x)\n",
    "x, y"
   ]
  },
  {
   "cell_type": "code",
   "execution_count": 7,
   "metadata": {},
   "outputs": [
    {
     "data": {
      "text/plain": [
       "[(0, 'c'), (1, 'a'), (3, 'b'), (4, 'd')]"
      ]
     },
     "execution_count": 7,
     "metadata": {},
     "output_type": "execute_result"
    }
   ],
   "source": [
    "#Q8 Create a sorted list of key-value pairs in the dictionary.\n",
    "#using list sort function\n",
    "\n",
    "mdict = {1 : 'a', 3 : 'b', 0 : 'c', 4 : 'd'}\n",
    "\n",
    "x = list(mdict.items())\n",
    "x.sort()\n",
    "x"
   ]
  },
  {
   "cell_type": "code",
   "execution_count": 9,
   "metadata": {},
   "outputs": [
    {
     "name": "stdout",
     "output_type": "stream",
     "text": [
      "{'h': ['hello', 'hi'], 'd': ['dave'], 'i': ['i'], 'a': ['am'], 'w': ['webster']}\n"
     ]
    }
   ],
   "source": [
    "#Q9 Write a function that receives a string as parameter and returns a dictionary \n",
    "#containing every word in the string as the value, first alphabet of each word as the key.\n",
    "\n",
    "def list_to_dict(some_string):\n",
    "    \n",
    "    word_dict = {}\n",
    "    \n",
    "    split_words = some_string.split()\n",
    "    \n",
    "    for word in split_words:\n",
    "        \n",
    "        if word[0] in word_dict:\n",
    "            \n",
    "            word_dict[word[0]] += [word]\n",
    "            \n",
    "        else:\n",
    "            \n",
    "            word_dict[word[0]] = [word]\n",
    "            \n",
    "    return word_dict\n",
    "        \n",
    "    \n",
    "word_string = 'hello dave i am webster hi'\n",
    "\n",
    "result = list_to_dict(word_string)\n",
    "\n",
    "print(result)"
   ]
  },
  {
   "cell_type": "code",
   "execution_count": 14,
   "metadata": {},
   "outputs": [
    {
     "data": {
      "text/plain": [
       "[15, 30, 45, 60, 75, 90]"
      ]
     },
     "execution_count": 14,
     "metadata": {},
     "output_type": "execute_result"
    }
   ],
   "source": [
    "#Q10 - find all numbers in [1, 100] which are divisible by 3 and 5. Use List comprehension.\n",
    "#Q11 - find the the number of $ chars in a input string. Use List comprehension.\n",
    "\n",
    "l = [item for item in range(1, 100) if item % 3 == 0 and item % 5 == 0]\n",
    "l"
   ]
  },
  {
   "cell_type": "code",
   "execution_count": 16,
   "metadata": {},
   "outputs": [
    {
     "data": {
      "text/plain": [
       "4"
      ]
     },
     "execution_count": 16,
     "metadata": {},
     "output_type": "execute_result"
    }
   ],
   "source": [
    "mstr = '$$hello$$'\n",
    "\n",
    "l = [item for item in mstr if item == '$']\n",
    "len(l)"
   ]
  },
  {
   "cell_type": "code",
   "execution_count": null,
   "metadata": {},
   "outputs": [],
   "source": [
    "#Q12 #create a dictionary to lookup the square of positive numbers \n",
    "#in the range [1, 10]. Write a function which will return the \n",
    "#square of a given number using your dictionary.\n",
    "\n"
   ]
  }
 ],
 "metadata": {
  "kernelspec": {
   "display_name": "Python 3",
   "language": "python",
   "name": "python3"
  },
  "language_info": {
   "codemirror_mode": {
    "name": "ipython",
    "version": 3
   },
   "file_extension": ".py",
   "mimetype": "text/x-python",
   "name": "python",
   "nbconvert_exporter": "python",
   "pygments_lexer": "ipython3",
   "version": "3.8.3"
  }
 },
 "nbformat": 4,
 "nbformat_minor": 5
}
